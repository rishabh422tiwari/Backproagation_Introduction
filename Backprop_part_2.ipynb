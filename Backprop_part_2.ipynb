{
  "cells": [
    {
      "cell_type": "markdown",
      "metadata": {
        "id": "view-in-github",
        "colab_type": "text"
      },
      "source": [
        "<a href=\"https://colab.research.google.com/github/rishabh422tiwari/Backproagation_Introduction/blob/main/Backprop_part_2.ipynb\" target=\"_parent\"><img src=\"https://colab.research.google.com/assets/colab-badge.svg\" alt=\"Open In Colab\"/></a>"
      ]
    },
    {
      "cell_type": "code",
      "source": [
        "import math\n",
        "import random\n",
        "import numpy as np\n",
        "import matplotlib.pyplot as plt\n",
        "%matplotlib inline"
      ],
      "metadata": {
        "id": "JpQTDrwxg8Nq"
      },
      "id": "JpQTDrwxg8Nq",
      "execution_count": 26,
      "outputs": []
    },
    {
      "cell_type": "code",
      "source": [
        "from graphviz import Digraph"
      ],
      "metadata": {
        "id": "6-49RtrdkIE7"
      },
      "id": "6-49RtrdkIE7",
      "execution_count": 27,
      "outputs": []
    },
    {
      "cell_type": "code",
      "execution_count": 28,
      "id": "ab170f9b",
      "metadata": {
        "id": "ab170f9b"
      },
      "outputs": [],
      "source": [
        "class Value:\n",
        "  \n",
        "  def __init__(self, data, _children=(), _op='', label=''):\n",
        "    self.data = data\n",
        "    self.grad = 0.0\n",
        "    self._backward = lambda: None\n",
        "    self._prev = set(_children)\n",
        "    self._op = _op\n",
        "    self.label = label\n",
        "\n",
        "  def __repr__(self):\n",
        "    return f\"Value(data={self.data})\"\n",
        "  \n",
        "  def __add__(self, other):\n",
        "    other = other if isinstance(other, Value) else Value(other)\n",
        "    out = Value(self.data + other.data, (self, other), '+')\n",
        "    \n",
        "    def _backward():\n",
        "      self.grad += 1.0 * out.grad\n",
        "      other.grad += 1.0 * out.grad\n",
        "    out._backward = _backward\n",
        "    \n",
        "    return out\n",
        "\n",
        "  def __mul__(self, other):\n",
        "    other = other if isinstance(other, Value) else Value(other)\n",
        "    out = Value(self.data * other.data, (self, other), '*')\n",
        "    \n",
        "    def _backward():\n",
        "      self.grad += other.data * out.grad\n",
        "      other.grad += self.data * out.grad\n",
        "    out._backward = _backward\n",
        "      \n",
        "    return out\n",
        "  \n",
        "  def __pow__(self, other):\n",
        "    assert isinstance(other, (int, float)), \"only supporting int/float powers for now\"\n",
        "    out = Value(self.data**other, (self,), f'**{other}')\n",
        "\n",
        "    def _backward():\n",
        "        self.grad += other * (self.data ** (other - 1)) * out.grad\n",
        "    out._backward = _backward\n",
        "\n",
        "    return out\n",
        "  \n",
        "  def __rmul__(self, other): # other * self\n",
        "    return self * other\n",
        "\n",
        "  def __truediv__(self, other): # self / other\n",
        "    return self * other**-1\n",
        "\n",
        "  def __neg__(self): # -self\n",
        "    return self * -1\n",
        "\n",
        "  def __sub__(self, other): # self - other\n",
        "    return self + (-other)\n",
        "\n",
        "  def __radd__(self, other): # other + self\n",
        "    return self + other\n",
        "\n",
        "  def tanh(self):\n",
        "    x = self.data\n",
        "    t = (math.exp(2*x) - 1)/(math.exp(2*x) + 1)\n",
        "    out = Value(t, (self, ), 'tanh')\n",
        "    \n",
        "    def _backward():\n",
        "      self.grad += (1 - t**2) * out.grad\n",
        "    out._backward = _backward\n",
        "    \n",
        "    return out\n",
        "  \n",
        "  def exp(self):\n",
        "    x = self.data\n",
        "    out = Value(math.exp(x), (self, ), 'exp')\n",
        "    \n",
        "    def _backward():\n",
        "      self.grad += out.data * out.grad # NOTE: in the video I incorrectly used = instead of +=. Fixed here.\n",
        "    out._backward = _backward\n",
        "    \n",
        "    return out\n",
        "  \n",
        "  \n",
        "  def backward(self):\n",
        "    \n",
        "    topo = []\n",
        "    visited = set()\n",
        "    def build_topo(v):\n",
        "      if v not in visited:\n",
        "        visited.add(v)\n",
        "        for child in v._prev:\n",
        "          build_topo(child)\n",
        "        topo.append(v)\n",
        "    build_topo(self)\n",
        "    \n",
        "    self.grad = 1.0\n",
        "    for node in reversed(topo):\n",
        "      node._backward()"
      ]
    },
    {
      "cell_type": "code",
      "execution_count": 29,
      "id": "19fe1dc0",
      "metadata": {
        "id": "19fe1dc0"
      },
      "outputs": [],
      "source": [
        "\n",
        "def trace(root):\n",
        "  # builds a set of all nodes and edges in a graph\n",
        "  nodes, edges = set(), set()\n",
        "  def build(v):\n",
        "    if v not in nodes:\n",
        "      nodes.add(v)\n",
        "      for child in v._prev:\n",
        "        edges.add((child, v))\n",
        "        build(child)\n",
        "  build(root)\n",
        "  return nodes, edges\n",
        "\n",
        "def draw_dot(root):\n",
        "  dot = Digraph(format='svg', graph_attr={'rankdir': 'LR'}) # LR = left to right\n",
        "  \n",
        "  nodes, edges = trace(root)\n",
        "  for n in nodes:\n",
        "    uid = str(id(n))\n",
        "    # for any value in the graph, create a rectangular ('record') node for it\n",
        "    dot.node(name = uid, label = \"{ %s | data %.4f | grad %.4f }\" % (n.label, n.data, n.grad), shape='record')\n",
        "    if n._op:\n",
        "      # if this value is a result of some operation, create an op node for it\n",
        "      dot.node(name = uid + n._op, label = n._op)\n",
        "      # and connect this node to it\n",
        "      dot.edge(uid + n._op, uid)\n",
        "\n",
        "  for n1, n2 in edges:\n",
        "    # connect n1 to the op node of n2\n",
        "    dot.edge(str(id(n1)), str(id(n2)) + n2._op)\n",
        "\n",
        "  return dot"
      ]
    },
    {
      "cell_type": "code",
      "source": [
        "# inputs x1,x2\n",
        "x1 = Value(2.0, label='x1')\n",
        "x2 = Value(0.0, label='x2')\n",
        "# weights w1,w2\n",
        "w1 = Value(-3.0, label='w1')\n",
        "w2 = Value(1.0, label='w2')\n",
        "# bias of the neuron\n",
        "b = Value(6.8813735870195432, label='b')\n",
        "# x1*w1 + x2*w2 + b\n",
        "x1w1 = x1*w1; x1w1.label = 'x1*w1'\n",
        "x2w2 = x2*w2; x2w2.label = 'x2*w2'\n",
        "x1w1x2w2 = x1w1 + x2w2; x1w1x2w2.label = 'x1*w1 + x2*w2'\n",
        "n = x1w1x2w2 + b; n.label = 'n'\n",
        "o = n.tanh(); o.label = 'o'\n",
        "o.backward()"
      ],
      "metadata": {
        "id": "sfcaYTRkBYh9"
      },
      "id": "sfcaYTRkBYh9",
      "execution_count": 30,
      "outputs": []
    },
    {
      "cell_type": "code",
      "source": [
        "draw_dot(o)"
      ],
      "metadata": {
        "colab": {
          "base_uri": "https://localhost:8080/",
          "height": 321
        },
        "id": "y6olFHGfBY51",
        "outputId": "b0d08b44-34d9-412a-f6b0-d4bdcd6bae9b"
      },
      "id": "y6olFHGfBY51",
      "execution_count": 31,
      "outputs": [
        {
          "output_type": "execute_result",
          "data": {
            "text/plain": [
              "<graphviz.dot.Digraph at 0x7f955a6efc50>"
            ],
            "image/svg+xml": "<?xml version=\"1.0\" encoding=\"UTF-8\" standalone=\"no\"?>\n<!DOCTYPE svg PUBLIC \"-//W3C//DTD SVG 1.1//EN\"\n \"http://www.w3.org/Graphics/SVG/1.1/DTD/svg11.dtd\">\n<!-- Generated by graphviz version 2.40.1 (20161225.0304)\n -->\n<!-- Title: %3 Pages: 1 -->\n<svg width=\"1637pt\" height=\"210pt\"\n viewBox=\"0.00 0.00 1637.00 210.00\" xmlns=\"http://www.w3.org/2000/svg\" xmlns:xlink=\"http://www.w3.org/1999/xlink\">\n<g id=\"graph0\" class=\"graph\" transform=\"scale(1 1) rotate(0) translate(4 206)\">\n<title>%3</title>\n<polygon fill=\"#ffffff\" stroke=\"transparent\" points=\"-4,4 -4,-206 1633,-206 1633,4 -4,4\"/>\n<!-- 140279444118992 -->\n<g id=\"node1\" class=\"node\">\n<title>140279444118992</title>\n<polygon fill=\"none\" stroke=\"#000000\" points=\"1111,-109.5 1111,-145.5 1307,-145.5 1307,-109.5 1111,-109.5\"/>\n<text text-anchor=\"middle\" x=\"1123\" y=\"-123.8\" font-family=\"Times,serif\" font-size=\"14.00\" fill=\"#000000\">n</text>\n<polyline fill=\"none\" stroke=\"#000000\" points=\"1135,-109.5 1135,-145.5 \"/>\n<text text-anchor=\"middle\" x=\"1177.5\" y=\"-123.8\" font-family=\"Times,serif\" font-size=\"14.00\" fill=\"#000000\">data 0.8814</text>\n<polyline fill=\"none\" stroke=\"#000000\" points=\"1220,-109.5 1220,-145.5 \"/>\n<text text-anchor=\"middle\" x=\"1263.5\" y=\"-123.8\" font-family=\"Times,serif\" font-size=\"14.00\" fill=\"#000000\">grad 0.5000</text>\n</g>\n<!-- 140279444117136tanh -->\n<g id=\"node9\" class=\"node\">\n<title>140279444117136tanh</title>\n<ellipse fill=\"none\" stroke=\"#000000\" cx=\"1370\" cy=\"-127.5\" rx=\"27\" ry=\"18\"/>\n<text text-anchor=\"middle\" x=\"1370\" y=\"-123.8\" font-family=\"Times,serif\" font-size=\"14.00\" fill=\"#000000\">tanh</text>\n</g>\n<!-- 140279444118992&#45;&gt;140279444117136tanh -->\n<g id=\"edge7\" class=\"edge\">\n<title>140279444118992&#45;&gt;140279444117136tanh</title>\n<path fill=\"none\" stroke=\"#000000\" d=\"M1307.2922,-127.5C1316.2042,-127.5 1324.8099,-127.5 1332.6423,-127.5\"/>\n<polygon fill=\"#000000\" stroke=\"#000000\" points=\"1332.7996,-131.0001 1342.7995,-127.5 1332.7995,-124.0001 1332.7996,-131.0001\"/>\n</g>\n<!-- 140279444118992+ -->\n<g id=\"node2\" class=\"node\">\n<title>140279444118992+</title>\n<ellipse fill=\"none\" stroke=\"#000000\" cx=\"1048\" cy=\"-127.5\" rx=\"27\" ry=\"18\"/>\n<text text-anchor=\"middle\" x=\"1048\" y=\"-123.8\" font-family=\"Times,serif\" font-size=\"14.00\" fill=\"#000000\">+</text>\n</g>\n<!-- 140279444118992+&#45;&gt;140279444118992 -->\n<g id=\"edge1\" class=\"edge\">\n<title>140279444118992+&#45;&gt;140279444118992</title>\n<path fill=\"none\" stroke=\"#000000\" d=\"M1075.3115,-127.5C1082.8223,-127.5 1091.4512,-127.5 1100.6318,-127.5\"/>\n<polygon fill=\"#000000\" stroke=\"#000000\" points=\"1100.7835,-131.0001 1110.7835,-127.5 1100.7835,-124.0001 1100.7835,-131.0001\"/>\n</g>\n<!-- 140279444516432 -->\n<g id=\"node3\" class=\"node\">\n<title>140279444516432</title>\n<polygon fill=\"none\" stroke=\"#000000\" points=\"3.5,-55.5 3.5,-91.5 207.5,-91.5 207.5,-55.5 3.5,-55.5\"/>\n<text text-anchor=\"middle\" x=\"19.5\" y=\"-69.8\" font-family=\"Times,serif\" font-size=\"14.00\" fill=\"#000000\">x2</text>\n<polyline fill=\"none\" stroke=\"#000000\" points=\"35.5,-55.5 35.5,-91.5 \"/>\n<text text-anchor=\"middle\" x=\"78\" y=\"-69.8\" font-family=\"Times,serif\" font-size=\"14.00\" fill=\"#000000\">data 0.0000</text>\n<polyline fill=\"none\" stroke=\"#000000\" points=\"120.5,-55.5 120.5,-91.5 \"/>\n<text text-anchor=\"middle\" x=\"164\" y=\"-69.8\" font-family=\"Times,serif\" font-size=\"14.00\" fill=\"#000000\">grad 0.5000</text>\n</g>\n<!-- 140279444117200* -->\n<g id=\"node11\" class=\"node\">\n<title>140279444117200*</title>\n<ellipse fill=\"none\" stroke=\"#000000\" cx=\"274\" cy=\"-73.5\" rx=\"27\" ry=\"18\"/>\n<text text-anchor=\"middle\" x=\"274\" y=\"-69.8\" font-family=\"Times,serif\" font-size=\"14.00\" fill=\"#000000\">*</text>\n</g>\n<!-- 140279444516432&#45;&gt;140279444117200* -->\n<g id=\"edge9\" class=\"edge\">\n<title>140279444516432&#45;&gt;140279444117200*</title>\n<path fill=\"none\" stroke=\"#000000\" d=\"M207.888,-73.5C218.0786,-73.5 227.8975,-73.5 236.7094,-73.5\"/>\n<polygon fill=\"#000000\" stroke=\"#000000\" points=\"236.9159,-77.0001 246.9159,-73.5 236.9158,-70.0001 236.9159,-77.0001\"/>\n</g>\n<!-- 140279444117584 -->\n<g id=\"node4\" class=\"node\">\n<title>140279444117584</title>\n<polygon fill=\"none\" stroke=\"#000000\" points=\"337,-110.5 337,-146.5 570,-146.5 570,-110.5 337,-110.5\"/>\n<text text-anchor=\"middle\" x=\"365.5\" y=\"-124.8\" font-family=\"Times,serif\" font-size=\"14.00\" fill=\"#000000\">x1*w1</text>\n<polyline fill=\"none\" stroke=\"#000000\" points=\"394,-110.5 394,-146.5 \"/>\n<text text-anchor=\"middle\" x=\"438.5\" y=\"-124.8\" font-family=\"Times,serif\" font-size=\"14.00\" fill=\"#000000\">data &#45;6.0000</text>\n<polyline fill=\"none\" stroke=\"#000000\" points=\"483,-110.5 483,-146.5 \"/>\n<text text-anchor=\"middle\" x=\"526.5\" y=\"-124.8\" font-family=\"Times,serif\" font-size=\"14.00\" fill=\"#000000\">grad 0.5000</text>\n</g>\n<!-- 140279444117392+ -->\n<g id=\"node14\" class=\"node\">\n<title>140279444117392+</title>\n<ellipse fill=\"none\" stroke=\"#000000\" cx=\"633\" cy=\"-100.5\" rx=\"27\" ry=\"18\"/>\n<text text-anchor=\"middle\" x=\"633\" y=\"-96.8\" font-family=\"Times,serif\" font-size=\"14.00\" fill=\"#000000\">+</text>\n</g>\n<!-- 140279444117584&#45;&gt;140279444117392+ -->\n<g id=\"edge10\" class=\"edge\">\n<title>140279444117584&#45;&gt;140279444117392+</title>\n<path fill=\"none\" stroke=\"#000000\" d=\"M568.9566,-110.4901C578.7184,-108.9673 588.037,-107.5137 596.3947,-106.21\"/>\n<polygon fill=\"#000000\" stroke=\"#000000\" points=\"597.0871,-109.6444 606.4281,-104.6449 596.0082,-102.7281 597.0871,-109.6444\"/>\n</g>\n<!-- 140279444117584* -->\n<g id=\"node5\" class=\"node\">\n<title>140279444117584*</title>\n<ellipse fill=\"none\" stroke=\"#000000\" cx=\"274\" cy=\"-128.5\" rx=\"27\" ry=\"18\"/>\n<text text-anchor=\"middle\" x=\"274\" y=\"-124.8\" font-family=\"Times,serif\" font-size=\"14.00\" fill=\"#000000\">*</text>\n</g>\n<!-- 140279444117584*&#45;&gt;140279444117584 -->\n<g id=\"edge2\" class=\"edge\">\n<title>140279444117584*&#45;&gt;140279444117584</title>\n<path fill=\"none\" stroke=\"#000000\" d=\"M301.2622,-128.5C308.8324,-128.5 317.5801,-128.5 326.9781,-128.5\"/>\n<polygon fill=\"#000000\" stroke=\"#000000\" points=\"326.9853,-132.0001 336.9853,-128.5 326.9852,-125.0001 326.9853,-132.0001\"/>\n</g>\n<!-- 140279456983504 -->\n<g id=\"node6\" class=\"node\">\n<title>140279456983504</title>\n<polygon fill=\"none\" stroke=\"#000000\" points=\"0,-165.5 0,-201.5 211,-201.5 211,-165.5 0,-165.5\"/>\n<text text-anchor=\"middle\" x=\"17.5\" y=\"-179.8\" font-family=\"Times,serif\" font-size=\"14.00\" fill=\"#000000\">w1</text>\n<polyline fill=\"none\" stroke=\"#000000\" points=\"35,-165.5 35,-201.5 \"/>\n<text text-anchor=\"middle\" x=\"79.5\" y=\"-179.8\" font-family=\"Times,serif\" font-size=\"14.00\" fill=\"#000000\">data &#45;3.0000</text>\n<polyline fill=\"none\" stroke=\"#000000\" points=\"124,-165.5 124,-201.5 \"/>\n<text text-anchor=\"middle\" x=\"167.5\" y=\"-179.8\" font-family=\"Times,serif\" font-size=\"14.00\" fill=\"#000000\">grad 1.0000</text>\n</g>\n<!-- 140279456983504&#45;&gt;140279444117584* -->\n<g id=\"edge14\" class=\"edge\">\n<title>140279456983504&#45;&gt;140279444117584*</title>\n<path fill=\"none\" stroke=\"#000000\" d=\"M182.3017,-165.4558C192.0361,-162.698 201.8026,-159.6955 211,-156.5 221.6243,-152.8088 232.9373,-148.0548 243.0021,-143.5155\"/>\n<polygon fill=\"#000000\" stroke=\"#000000\" points=\"244.5909,-146.6371 252.2061,-139.271 241.6594,-140.2805 244.5909,-146.6371\"/>\n</g>\n<!-- 140279444117072 -->\n<g id=\"node7\" class=\"node\">\n<title>140279444117072</title>\n<polygon fill=\"none\" stroke=\"#000000\" points=\"742.5,-137.5 742.5,-173.5 938.5,-173.5 938.5,-137.5 742.5,-137.5\"/>\n<text text-anchor=\"middle\" x=\"754.5\" y=\"-151.8\" font-family=\"Times,serif\" font-size=\"14.00\" fill=\"#000000\">b</text>\n<polyline fill=\"none\" stroke=\"#000000\" points=\"766.5,-137.5 766.5,-173.5 \"/>\n<text text-anchor=\"middle\" x=\"809\" y=\"-151.8\" font-family=\"Times,serif\" font-size=\"14.00\" fill=\"#000000\">data 6.8814</text>\n<polyline fill=\"none\" stroke=\"#000000\" points=\"851.5,-137.5 851.5,-173.5 \"/>\n<text text-anchor=\"middle\" x=\"895\" y=\"-151.8\" font-family=\"Times,serif\" font-size=\"14.00\" fill=\"#000000\">grad 0.5000</text>\n</g>\n<!-- 140279444117072&#45;&gt;140279444118992+ -->\n<g id=\"edge13\" class=\"edge\">\n<title>140279444117072&#45;&gt;140279444118992+</title>\n<path fill=\"none\" stroke=\"#000000\" d=\"M938.7811,-142.238C964.6496,-138.7473 990.9727,-135.1952 1011.2938,-132.4531\"/>\n<polygon fill=\"#000000\" stroke=\"#000000\" points=\"1011.897,-135.9035 1021.3391,-131.0976 1010.9609,-128.9664 1011.897,-135.9035\"/>\n</g>\n<!-- 140279444117136 -->\n<g id=\"node8\" class=\"node\">\n<title>140279444117136</title>\n<polygon fill=\"none\" stroke=\"#000000\" points=\"1433,-109.5 1433,-145.5 1629,-145.5 1629,-109.5 1433,-109.5\"/>\n<text text-anchor=\"middle\" x=\"1445\" y=\"-123.8\" font-family=\"Times,serif\" font-size=\"14.00\" fill=\"#000000\">o</text>\n<polyline fill=\"none\" stroke=\"#000000\" points=\"1457,-109.5 1457,-145.5 \"/>\n<text text-anchor=\"middle\" x=\"1499.5\" y=\"-123.8\" font-family=\"Times,serif\" font-size=\"14.00\" fill=\"#000000\">data 0.7071</text>\n<polyline fill=\"none\" stroke=\"#000000\" points=\"1542,-109.5 1542,-145.5 \"/>\n<text text-anchor=\"middle\" x=\"1585.5\" y=\"-123.8\" font-family=\"Times,serif\" font-size=\"14.00\" fill=\"#000000\">grad 1.0000</text>\n</g>\n<!-- 140279444117136tanh&#45;&gt;140279444117136 -->\n<g id=\"edge3\" class=\"edge\">\n<title>140279444117136tanh&#45;&gt;140279444117136</title>\n<path fill=\"none\" stroke=\"#000000\" d=\"M1397.3115,-127.5C1404.8223,-127.5 1413.4512,-127.5 1422.6318,-127.5\"/>\n<polygon fill=\"#000000\" stroke=\"#000000\" points=\"1422.7835,-131.0001 1432.7835,-127.5 1422.7835,-124.0001 1422.7835,-131.0001\"/>\n</g>\n<!-- 140279444117200 -->\n<g id=\"node10\" class=\"node\">\n<title>140279444117200</title>\n<polygon fill=\"none\" stroke=\"#000000\" points=\"339,-55.5 339,-91.5 568,-91.5 568,-55.5 339,-55.5\"/>\n<text text-anchor=\"middle\" x=\"367.5\" y=\"-69.8\" font-family=\"Times,serif\" font-size=\"14.00\" fill=\"#000000\">x2*w2</text>\n<polyline fill=\"none\" stroke=\"#000000\" points=\"396,-55.5 396,-91.5 \"/>\n<text text-anchor=\"middle\" x=\"438.5\" y=\"-69.8\" font-family=\"Times,serif\" font-size=\"14.00\" fill=\"#000000\">data 0.0000</text>\n<polyline fill=\"none\" stroke=\"#000000\" points=\"481,-55.5 481,-91.5 \"/>\n<text text-anchor=\"middle\" x=\"524.5\" y=\"-69.8\" font-family=\"Times,serif\" font-size=\"14.00\" fill=\"#000000\">grad 0.5000</text>\n</g>\n<!-- 140279444117200&#45;&gt;140279444117392+ -->\n<g id=\"edge8\" class=\"edge\">\n<title>140279444117200&#45;&gt;140279444117392+</title>\n<path fill=\"none\" stroke=\"#000000\" d=\"M568.1964,-90.7524C578.2591,-92.266 587.8673,-93.7112 596.4577,-95.0034\"/>\n<polygon fill=\"#000000\" stroke=\"#000000\" points=\"595.984,-98.4714 606.3934,-96.4979 597.0253,-91.5493 595.984,-98.4714\"/>\n</g>\n<!-- 140279444117200*&#45;&gt;140279444117200 -->\n<g id=\"edge4\" class=\"edge\">\n<title>140279444117200*&#45;&gt;140279444117200</title>\n<path fill=\"none\" stroke=\"#000000\" d=\"M301.2622,-73.5C309.2798,-73.5 318.6183,-73.5 328.6514,-73.5\"/>\n<polygon fill=\"#000000\" stroke=\"#000000\" points=\"328.8929,-77.0001 338.8928,-73.5 328.8928,-70.0001 328.8929,-77.0001\"/>\n</g>\n<!-- 140279444515664 -->\n<g id=\"node12\" class=\"node\">\n<title>140279444515664</title>\n<polygon fill=\"none\" stroke=\"#000000\" points=\"1,-110.5 1,-146.5 210,-146.5 210,-110.5 1,-110.5\"/>\n<text text-anchor=\"middle\" x=\"17\" y=\"-124.8\" font-family=\"Times,serif\" font-size=\"14.00\" fill=\"#000000\">x1</text>\n<polyline fill=\"none\" stroke=\"#000000\" points=\"33,-110.5 33,-146.5 \"/>\n<text text-anchor=\"middle\" x=\"75.5\" y=\"-124.8\" font-family=\"Times,serif\" font-size=\"14.00\" fill=\"#000000\">data 2.0000</text>\n<polyline fill=\"none\" stroke=\"#000000\" points=\"118,-110.5 118,-146.5 \"/>\n<text text-anchor=\"middle\" x=\"164\" y=\"-124.8\" font-family=\"Times,serif\" font-size=\"14.00\" fill=\"#000000\">grad &#45;1.5000</text>\n</g>\n<!-- 140279444515664&#45;&gt;140279444117584* -->\n<g id=\"edge12\" class=\"edge\">\n<title>140279444515664&#45;&gt;140279444117584*</title>\n<path fill=\"none\" stroke=\"#000000\" d=\"M210.2974,-128.5C219.6043,-128.5 228.5549,-128.5 236.6562,-128.5\"/>\n<polygon fill=\"#000000\" stroke=\"#000000\" points=\"236.7755,-132.0001 246.7754,-128.5 236.7754,-125.0001 236.7755,-132.0001\"/>\n</g>\n<!-- 140279444117392 -->\n<g id=\"node13\" class=\"node\">\n<title>140279444117392</title>\n<polygon fill=\"none\" stroke=\"#000000\" points=\"696,-82.5 696,-118.5 985,-118.5 985,-82.5 696,-82.5\"/>\n<text text-anchor=\"middle\" x=\"752.5\" y=\"-96.8\" font-family=\"Times,serif\" font-size=\"14.00\" fill=\"#000000\">x1*w1 + x2*w2</text>\n<polyline fill=\"none\" stroke=\"#000000\" points=\"809,-82.5 809,-118.5 \"/>\n<text text-anchor=\"middle\" x=\"853.5\" y=\"-96.8\" font-family=\"Times,serif\" font-size=\"14.00\" fill=\"#000000\">data &#45;6.0000</text>\n<polyline fill=\"none\" stroke=\"#000000\" points=\"898,-82.5 898,-118.5 \"/>\n<text text-anchor=\"middle\" x=\"941.5\" y=\"-96.8\" font-family=\"Times,serif\" font-size=\"14.00\" fill=\"#000000\">grad 0.5000</text>\n</g>\n<!-- 140279444117392&#45;&gt;140279444118992+ -->\n<g id=\"edge6\" class=\"edge\">\n<title>140279444117392&#45;&gt;140279444118992+</title>\n<path fill=\"none\" stroke=\"#000000\" d=\"M978.9055,-118.5094C990.5887,-120.0296 1001.6094,-121.4636 1011.2737,-122.7212\"/>\n<polygon fill=\"#000000\" stroke=\"#000000\" points=\"1010.8271,-126.1925 1021.1952,-124.0121 1011.7304,-119.251 1010.8271,-126.1925\"/>\n</g>\n<!-- 140279444117392+&#45;&gt;140279444117392 -->\n<g id=\"edge5\" class=\"edge\">\n<title>140279444117392+&#45;&gt;140279444117392</title>\n<path fill=\"none\" stroke=\"#000000\" d=\"M660.127,-100.5C667.628,-100.5 676.3363,-100.5 685.7965,-100.5\"/>\n<polygon fill=\"#000000\" stroke=\"#000000\" points=\"685.9081,-104.0001 695.908,-100.5 685.908,-97.0001 685.9081,-104.0001\"/>\n</g>\n<!-- 140279445258704 -->\n<g id=\"node15\" class=\"node\">\n<title>140279445258704</title>\n<polygon fill=\"none\" stroke=\"#000000\" points=\"2,-.5 2,-36.5 209,-36.5 209,-.5 2,-.5\"/>\n<text text-anchor=\"middle\" x=\"19.5\" y=\"-14.8\" font-family=\"Times,serif\" font-size=\"14.00\" fill=\"#000000\">w2</text>\n<polyline fill=\"none\" stroke=\"#000000\" points=\"37,-.5 37,-36.5 \"/>\n<text text-anchor=\"middle\" x=\"79.5\" y=\"-14.8\" font-family=\"Times,serif\" font-size=\"14.00\" fill=\"#000000\">data 1.0000</text>\n<polyline fill=\"none\" stroke=\"#000000\" points=\"122,-.5 122,-36.5 \"/>\n<text text-anchor=\"middle\" x=\"165.5\" y=\"-14.8\" font-family=\"Times,serif\" font-size=\"14.00\" fill=\"#000000\">grad 0.0000</text>\n</g>\n<!-- 140279445258704&#45;&gt;140279444117200* -->\n<g id=\"edge11\" class=\"edge\">\n<title>140279445258704&#45;&gt;140279444117200*</title>\n<path fill=\"none\" stroke=\"#000000\" d=\"M179.1277,-36.5688C189.8946,-39.636 200.7889,-42.9778 211,-46.5 221.4855,-50.1168 232.6874,-54.6793 242.694,-59.0193\"/>\n<polygon fill=\"#000000\" stroke=\"#000000\" points=\"241.2981,-62.229 251.8592,-63.0741 244.1302,-55.8274 241.2981,-62.229\"/>\n</g>\n</g>\n</svg>\n"
          },
          "metadata": {},
          "execution_count": 31
        }
      ]
    },
    {
      "cell_type": "code",
      "source": [
        "# inputs x1,x2\n",
        "x1 = Value(2.0, label='x1')\n",
        "x2 = Value(0.0, label='x2')\n",
        "# weights w1,w2\n",
        "w1 = Value(-3.0, label='w1')\n",
        "w2 = Value(1.0, label='w2')\n",
        "# bias of the neuron\n",
        "b = Value(6.8813735870195432, label='b')\n",
        "# x1*w1 + x2*w2 + b\n",
        "x1w1 = x1*w1; x1w1.label = 'x1*w1'\n",
        "x2w2 = x2*w2; x2w2.label = 'x2*w2'\n",
        "x1w1x2w2 = x1w1 + x2w2; x1w1x2w2.label = 'x1*w1 + x2*w2'\n",
        "n = x1w1x2w2 + b; n.label = 'n'\n",
        "o = n.tanh(); o.label = 'o'\n",
        "o.backward()"
      ],
      "metadata": {
        "id": "Ata0h8cCkPPl"
      },
      "id": "Ata0h8cCkPPl",
      "execution_count": 32,
      "outputs": []
    },
    {
      "cell_type": "code",
      "source": [
        "# inputs x1,x2\n",
        "x1 = Value(2.0, label='x1')\n",
        "x2 = Value(0.0, label='x2')\n",
        "# weights w1,w2\n",
        "w1 = Value(-3.0, label='w1')\n",
        "w2 = Value(1.0, label='w2')\n",
        "# bias of the neuron\n",
        "b = Value(6.8813735870195432, label='b')\n",
        "# x1*w1 + x2*w2 + b\n",
        "x1w1 = x1*w1; x1w1.label = 'x1*w1'\n",
        "x2w2 = x2*w2; x2w2.label = 'x2*w2'\n",
        "x1w1x2w2 = x1w1 + x2w2; x1w1x2w2.label = 'x1*w1 + x2*w2'\n",
        "n = x1w1x2w2 + b; n.label = 'n'\n",
        "# ----\n",
        "e = (2*n).exp()\n",
        "o = (e - 1) / (e + 1)\n",
        "# ----\n",
        "o.label = 'o'\n",
        "o.backward()\n",
        "draw_dot(o)"
      ],
      "metadata": {
        "colab": {
          "base_uri": "https://localhost:8080/",
          "height": 360
        },
        "id": "VSIShcVnk17J",
        "outputId": "cf41c4bc-87bd-469d-b37e-4bc14e95cff5"
      },
      "id": "VSIShcVnk17J",
      "execution_count": 33,
      "outputs": [
        {
          "output_type": "execute_result",
          "data": {
            "text/plain": [
              "<graphviz.dot.Digraph at 0x7f955a6f3f90>"
            ],
            "image/svg+xml": "<?xml version=\"1.0\" encoding=\"UTF-8\" standalone=\"no\"?>\n<!DOCTYPE svg PUBLIC \"-//W3C//DTD SVG 1.1//EN\"\n \"http://www.w3.org/Graphics/SVG/1.1/DTD/svg11.dtd\">\n<!-- Generated by graphviz version 2.40.1 (20161225.0304)\n -->\n<!-- Title: %3 Pages: 1 -->\n<svg width=\"3057pt\" height=\"239pt\"\n viewBox=\"0.00 0.00 3057.00 239.00\" xmlns=\"http://www.w3.org/2000/svg\" xmlns:xlink=\"http://www.w3.org/1999/xlink\">\n<g id=\"graph0\" class=\"graph\" transform=\"scale(1 1) rotate(0) translate(4 235)\">\n<title>%3</title>\n<polygon fill=\"#ffffff\" stroke=\"transparent\" points=\"-4,4 -4,-235 3053,-235 3053,4 -4,4\"/>\n<!-- 140279444092496 -->\n<g id=\"node1\" class=\"node\">\n<title>140279444092496</title>\n<polygon fill=\"none\" stroke=\"#000000\" points=\"0,-194.5 0,-230.5 211,-230.5 211,-194.5 0,-194.5\"/>\n<text text-anchor=\"middle\" x=\"17.5\" y=\"-208.8\" font-family=\"Times,serif\" font-size=\"14.00\" fill=\"#000000\">w1</text>\n<polyline fill=\"none\" stroke=\"#000000\" points=\"35,-194.5 35,-230.5 \"/>\n<text text-anchor=\"middle\" x=\"79.5\" y=\"-208.8\" font-family=\"Times,serif\" font-size=\"14.00\" fill=\"#000000\">data &#45;3.0000</text>\n<polyline fill=\"none\" stroke=\"#000000\" points=\"124,-194.5 124,-230.5 \"/>\n<text text-anchor=\"middle\" x=\"167.5\" y=\"-208.8\" font-family=\"Times,serif\" font-size=\"14.00\" fill=\"#000000\">grad 1.0000</text>\n</g>\n<!-- 140279444091152* -->\n<g id=\"node13\" class=\"node\">\n<title>140279444091152*</title>\n<ellipse fill=\"none\" stroke=\"#000000\" cx=\"274\" cy=\"-157.5\" rx=\"27\" ry=\"18\"/>\n<text text-anchor=\"middle\" x=\"274\" y=\"-153.8\" font-family=\"Times,serif\" font-size=\"14.00\" fill=\"#000000\">*</text>\n</g>\n<!-- 140279444092496&#45;&gt;140279444091152* -->\n<g id=\"edge18\" class=\"edge\">\n<title>140279444092496&#45;&gt;140279444091152*</title>\n<path fill=\"none\" stroke=\"#000000\" d=\"M182.3017,-194.4558C192.0361,-191.698 201.8026,-188.6955 211,-185.5 221.6243,-181.8088 232.9373,-177.0548 243.0021,-172.5155\"/>\n<polygon fill=\"#000000\" stroke=\"#000000\" points=\"244.5909,-175.6371 252.2061,-168.271 241.6594,-169.2805 244.5909,-175.6371\"/>\n</g>\n<!-- 140279444091472 -->\n<g id=\"node2\" class=\"node\">\n<title>140279444091472</title>\n<polygon fill=\"none\" stroke=\"#000000\" points=\"2,-84.5 2,-120.5 209,-120.5 209,-84.5 2,-84.5\"/>\n<text text-anchor=\"middle\" x=\"19.5\" y=\"-98.8\" font-family=\"Times,serif\" font-size=\"14.00\" fill=\"#000000\">w2</text>\n<polyline fill=\"none\" stroke=\"#000000\" points=\"37,-84.5 37,-120.5 \"/>\n<text text-anchor=\"middle\" x=\"79.5\" y=\"-98.8\" font-family=\"Times,serif\" font-size=\"14.00\" fill=\"#000000\">data 1.0000</text>\n<polyline fill=\"none\" stroke=\"#000000\" points=\"122,-84.5 122,-120.5 \"/>\n<text text-anchor=\"middle\" x=\"165.5\" y=\"-98.8\" font-family=\"Times,serif\" font-size=\"14.00\" fill=\"#000000\">grad 0.0000</text>\n</g>\n<!-- 140279444091344* -->\n<g id=\"node4\" class=\"node\">\n<title>140279444091344*</title>\n<ellipse fill=\"none\" stroke=\"#000000\" cx=\"274\" cy=\"-102.5\" rx=\"27\" ry=\"18\"/>\n<text text-anchor=\"middle\" x=\"274\" y=\"-98.8\" font-family=\"Times,serif\" font-size=\"14.00\" fill=\"#000000\">*</text>\n</g>\n<!-- 140279444091472&#45;&gt;140279444091344* -->\n<g id=\"edge23\" class=\"edge\">\n<title>140279444091472&#45;&gt;140279444091344*</title>\n<path fill=\"none\" stroke=\"#000000\" d=\"M209.3354,-102.5C219.0497,-102.5 228.3963,-102.5 236.8187,-102.5\"/>\n<polygon fill=\"#000000\" stroke=\"#000000\" points=\"236.951,-106.0001 246.9509,-102.5 236.9509,-99.0001 236.951,-106.0001\"/>\n</g>\n<!-- 140279444091344 -->\n<g id=\"node3\" class=\"node\">\n<title>140279444091344</title>\n<polygon fill=\"none\" stroke=\"#000000\" points=\"339,-84.5 339,-120.5 568,-120.5 568,-84.5 339,-84.5\"/>\n<text text-anchor=\"middle\" x=\"367.5\" y=\"-98.8\" font-family=\"Times,serif\" font-size=\"14.00\" fill=\"#000000\">x2*w2</text>\n<polyline fill=\"none\" stroke=\"#000000\" points=\"396,-84.5 396,-120.5 \"/>\n<text text-anchor=\"middle\" x=\"438.5\" y=\"-98.8\" font-family=\"Times,serif\" font-size=\"14.00\" fill=\"#000000\">data 0.0000</text>\n<polyline fill=\"none\" stroke=\"#000000\" points=\"481,-84.5 481,-120.5 \"/>\n<text text-anchor=\"middle\" x=\"524.5\" y=\"-98.8\" font-family=\"Times,serif\" font-size=\"14.00\" fill=\"#000000\">grad 0.5000</text>\n</g>\n<!-- 140279444092816+ -->\n<g id=\"node26\" class=\"node\">\n<title>140279444092816+</title>\n<ellipse fill=\"none\" stroke=\"#000000\" cx=\"633\" cy=\"-129.5\" rx=\"27\" ry=\"18\"/>\n<text text-anchor=\"middle\" x=\"633\" y=\"-125.8\" font-family=\"Times,serif\" font-size=\"14.00\" fill=\"#000000\">+</text>\n</g>\n<!-- 140279444091344&#45;&gt;140279444092816+ -->\n<g id=\"edge27\" class=\"edge\">\n<title>140279444091344&#45;&gt;140279444092816+</title>\n<path fill=\"none\" stroke=\"#000000\" d=\"M568.1964,-119.7524C578.2591,-121.266 587.8673,-122.7112 596.4577,-124.0034\"/>\n<polygon fill=\"#000000\" stroke=\"#000000\" points=\"595.984,-127.4714 606.3934,-125.4979 597.0253,-120.5493 595.984,-127.4714\"/>\n</g>\n<!-- 140279444091344*&#45;&gt;140279444091344 -->\n<g id=\"edge1\" class=\"edge\">\n<title>140279444091344*&#45;&gt;140279444091344</title>\n<path fill=\"none\" stroke=\"#000000\" d=\"M301.2622,-102.5C309.2798,-102.5 318.6183,-102.5 328.6514,-102.5\"/>\n<polygon fill=\"#000000\" stroke=\"#000000\" points=\"328.8929,-106.0001 338.8928,-102.5 328.8928,-99.0001 328.8929,-106.0001\"/>\n</g>\n<!-- 140279444092624 -->\n<g id=\"node5\" class=\"node\">\n<title>140279444092624</title>\n<polygon fill=\"none\" stroke=\"#000000\" points=\"2074,-82.5 2074,-118.5 2271,-118.5 2271,-82.5 2074,-82.5\"/>\n<text text-anchor=\"middle\" x=\"2084\" y=\"-96.8\" font-family=\"Times,serif\" font-size=\"14.00\" fill=\"#000000\"> </text>\n<polyline fill=\"none\" stroke=\"#000000\" points=\"2094,-82.5 2094,-118.5 \"/>\n<text text-anchor=\"middle\" x=\"2136.5\" y=\"-96.8\" font-family=\"Times,serif\" font-size=\"14.00\" fill=\"#000000\">data 6.8284</text>\n<polyline fill=\"none\" stroke=\"#000000\" points=\"2179,-82.5 2179,-118.5 \"/>\n<text text-anchor=\"middle\" x=\"2225\" y=\"-96.8\" font-family=\"Times,serif\" font-size=\"14.00\" fill=\"#000000\">grad &#45;0.1036</text>\n</g>\n<!-- 140279444458832**&#45;1 -->\n<g id=\"node18\" class=\"node\">\n<title>140279444458832**&#45;1</title>\n<ellipse fill=\"none\" stroke=\"#000000\" cx=\"2403\" cy=\"-100.5\" rx=\"28.6953\" ry=\"18\"/>\n<text text-anchor=\"middle\" x=\"2403\" y=\"-96.8\" font-family=\"Times,serif\" font-size=\"14.00\" fill=\"#000000\">**&#45;1</text>\n</g>\n<!-- 140279444092624&#45;&gt;140279444458832**&#45;1 -->\n<g id=\"edge28\" class=\"edge\">\n<title>140279444092624&#45;&gt;140279444458832**&#45;1</title>\n<path fill=\"none\" stroke=\"#000000\" d=\"M2271.2558,-100.5C2304.1184,-100.5 2338.8079,-100.5 2364.3374,-100.5\"/>\n<polygon fill=\"#000000\" stroke=\"#000000\" points=\"2364.3393,-104.0001 2374.3393,-100.5 2364.3392,-97.0001 2364.3393,-104.0001\"/>\n</g>\n<!-- 140279444092624+ -->\n<g id=\"node6\" class=\"node\">\n<title>140279444092624+</title>\n<ellipse fill=\"none\" stroke=\"#000000\" cx=\"2011\" cy=\"-100.5\" rx=\"27\" ry=\"18\"/>\n<text text-anchor=\"middle\" x=\"2011\" y=\"-96.8\" font-family=\"Times,serif\" font-size=\"14.00\" fill=\"#000000\">+</text>\n</g>\n<!-- 140279444092624+&#45;&gt;140279444092624 -->\n<g id=\"edge2\" class=\"edge\">\n<title>140279444092624+&#45;&gt;140279444092624</title>\n<path fill=\"none\" stroke=\"#000000\" d=\"M2038.0315,-100.5C2045.6149,-100.5 2054.3553,-100.5 2063.6644,-100.5\"/>\n<polygon fill=\"#000000\" stroke=\"#000000\" points=\"2063.9613,-104.0001 2073.9613,-100.5 2063.9613,-97.0001 2063.9613,-104.0001\"/>\n</g>\n<!-- 140279444093648 -->\n<g id=\"node7\" class=\"node\">\n<title>140279444093648</title>\n<polygon fill=\"none\" stroke=\"#000000\" points=\"1,-139.5 1,-175.5 210,-175.5 210,-139.5 1,-139.5\"/>\n<text text-anchor=\"middle\" x=\"17\" y=\"-153.8\" font-family=\"Times,serif\" font-size=\"14.00\" fill=\"#000000\">x1</text>\n<polyline fill=\"none\" stroke=\"#000000\" points=\"33,-139.5 33,-175.5 \"/>\n<text text-anchor=\"middle\" x=\"75.5\" y=\"-153.8\" font-family=\"Times,serif\" font-size=\"14.00\" fill=\"#000000\">data 2.0000</text>\n<polyline fill=\"none\" stroke=\"#000000\" points=\"118,-139.5 118,-175.5 \"/>\n<text text-anchor=\"middle\" x=\"164\" y=\"-153.8\" font-family=\"Times,serif\" font-size=\"14.00\" fill=\"#000000\">grad &#45;1.5000</text>\n</g>\n<!-- 140279444093648&#45;&gt;140279444091152* -->\n<g id=\"edge22\" class=\"edge\">\n<title>140279444093648&#45;&gt;140279444091152*</title>\n<path fill=\"none\" stroke=\"#000000\" d=\"M210.2974,-157.5C219.6043,-157.5 228.5549,-157.5 236.6562,-157.5\"/>\n<polygon fill=\"#000000\" stroke=\"#000000\" points=\"236.7755,-161.0001 246.7754,-157.5 236.7754,-154.0001 236.7755,-161.0001\"/>\n</g>\n<!-- 140279444093136 -->\n<g id=\"node8\" class=\"node\">\n<title>140279444093136</title>\n<polygon fill=\"none\" stroke=\"#000000\" points=\"742.5,-56.5 742.5,-92.5 938.5,-92.5 938.5,-56.5 742.5,-56.5\"/>\n<text text-anchor=\"middle\" x=\"754.5\" y=\"-70.8\" font-family=\"Times,serif\" font-size=\"14.00\" fill=\"#000000\">b</text>\n<polyline fill=\"none\" stroke=\"#000000\" points=\"766.5,-56.5 766.5,-92.5 \"/>\n<text text-anchor=\"middle\" x=\"809\" y=\"-70.8\" font-family=\"Times,serif\" font-size=\"14.00\" fill=\"#000000\">data 6.8814</text>\n<polyline fill=\"none\" stroke=\"#000000\" points=\"851.5,-56.5 851.5,-92.5 \"/>\n<text text-anchor=\"middle\" x=\"895\" y=\"-70.8\" font-family=\"Times,serif\" font-size=\"14.00\" fill=\"#000000\">grad 0.5000</text>\n</g>\n<!-- 140279444093712+ -->\n<g id=\"node11\" class=\"node\">\n<title>140279444093712+</title>\n<ellipse fill=\"none\" stroke=\"#000000\" cx=\"1048\" cy=\"-101.5\" rx=\"27\" ry=\"18\"/>\n<text text-anchor=\"middle\" x=\"1048\" y=\"-97.8\" font-family=\"Times,serif\" font-size=\"14.00\" fill=\"#000000\">+</text>\n</g>\n<!-- 140279444093136&#45;&gt;140279444093712+ -->\n<g id=\"edge25\" class=\"edge\">\n<title>140279444093136&#45;&gt;140279444093712+</title>\n<path fill=\"none\" stroke=\"#000000\" d=\"M938.7811,-87.2884C964.6496,-90.6544 990.9727,-94.0796 1011.2938,-96.7238\"/>\n<polygon fill=\"#000000\" stroke=\"#000000\" points=\"1010.9711,-100.2112 1021.3391,-98.0309 1011.8744,-93.2697 1010.9711,-100.2112\"/>\n</g>\n<!-- 140279444091088 -->\n<g id=\"node9\" class=\"node\">\n<title>140279444091088</title>\n<polygon fill=\"none\" stroke=\"#000000\" points=\"1113,-28.5 1113,-64.5 1305,-64.5 1305,-28.5 1113,-28.5\"/>\n<text text-anchor=\"middle\" x=\"1123\" y=\"-42.8\" font-family=\"Times,serif\" font-size=\"14.00\" fill=\"#000000\"> </text>\n<polyline fill=\"none\" stroke=\"#000000\" points=\"1133,-28.5 1133,-64.5 \"/>\n<text text-anchor=\"middle\" x=\"1175.5\" y=\"-42.8\" font-family=\"Times,serif\" font-size=\"14.00\" fill=\"#000000\">data 2.0000</text>\n<polyline fill=\"none\" stroke=\"#000000\" points=\"1218,-28.5 1218,-64.5 \"/>\n<text text-anchor=\"middle\" x=\"1261.5\" y=\"-42.8\" font-family=\"Times,serif\" font-size=\"14.00\" fill=\"#000000\">grad 0.2203</text>\n</g>\n<!-- 140279444094288* -->\n<g id=\"node20\" class=\"node\">\n<title>140279444094288*</title>\n<ellipse fill=\"none\" stroke=\"#000000\" cx=\"1370\" cy=\"-73.5\" rx=\"27\" ry=\"18\"/>\n<text text-anchor=\"middle\" x=\"1370\" y=\"-69.8\" font-family=\"Times,serif\" font-size=\"14.00\" fill=\"#000000\">*</text>\n</g>\n<!-- 140279444091088&#45;&gt;140279444094288* -->\n<g id=\"edge14\" class=\"edge\">\n<title>140279444091088&#45;&gt;140279444094288*</title>\n<path fill=\"none\" stroke=\"#000000\" d=\"M1305.4428,-62.6736C1315.4412,-64.3504 1325.0978,-65.9698 1333.7618,-67.4228\"/>\n<polygon fill=\"#000000\" stroke=\"#000000\" points=\"1333.3527,-70.903 1343.7939,-69.1052 1334.5105,-63.9994 1333.3527,-70.903\"/>\n</g>\n<!-- 140279444093712 -->\n<g id=\"node10\" class=\"node\">\n<title>140279444093712</title>\n<polygon fill=\"none\" stroke=\"#000000\" points=\"1111,-83.5 1111,-119.5 1307,-119.5 1307,-83.5 1111,-83.5\"/>\n<text text-anchor=\"middle\" x=\"1123\" y=\"-97.8\" font-family=\"Times,serif\" font-size=\"14.00\" fill=\"#000000\">n</text>\n<polyline fill=\"none\" stroke=\"#000000\" points=\"1135,-83.5 1135,-119.5 \"/>\n<text text-anchor=\"middle\" x=\"1177.5\" y=\"-97.8\" font-family=\"Times,serif\" font-size=\"14.00\" fill=\"#000000\">data 0.8814</text>\n<polyline fill=\"none\" stroke=\"#000000\" points=\"1220,-83.5 1220,-119.5 \"/>\n<text text-anchor=\"middle\" x=\"1263.5\" y=\"-97.8\" font-family=\"Times,serif\" font-size=\"14.00\" fill=\"#000000\">grad 0.5000</text>\n</g>\n<!-- 140279444093712&#45;&gt;140279444094288* -->\n<g id=\"edge21\" class=\"edge\">\n<title>140279444093712&#45;&gt;140279444094288*</title>\n<path fill=\"none\" stroke=\"#000000\" d=\"M1307.2922,-84.4057C1316.5786,-82.7907 1325.5324,-81.2335 1333.6253,-79.826\"/>\n<polygon fill=\"#000000\" stroke=\"#000000\" points=\"1334.4713,-83.2315 1343.7237,-78.0698 1333.2719,-76.335 1334.4713,-83.2315\"/>\n</g>\n<!-- 140279444093712+&#45;&gt;140279444093712 -->\n<g id=\"edge3\" class=\"edge\">\n<title>140279444093712+&#45;&gt;140279444093712</title>\n<path fill=\"none\" stroke=\"#000000\" d=\"M1075.3115,-101.5C1082.8223,-101.5 1091.4512,-101.5 1100.6318,-101.5\"/>\n<polygon fill=\"#000000\" stroke=\"#000000\" points=\"1100.7835,-105.0001 1110.7835,-101.5 1100.7835,-98.0001 1100.7835,-105.0001\"/>\n</g>\n<!-- 140279444091152 -->\n<g id=\"node12\" class=\"node\">\n<title>140279444091152</title>\n<polygon fill=\"none\" stroke=\"#000000\" points=\"337,-139.5 337,-175.5 570,-175.5 570,-139.5 337,-139.5\"/>\n<text text-anchor=\"middle\" x=\"365.5\" y=\"-153.8\" font-family=\"Times,serif\" font-size=\"14.00\" fill=\"#000000\">x1*w1</text>\n<polyline fill=\"none\" stroke=\"#000000\" points=\"394,-139.5 394,-175.5 \"/>\n<text text-anchor=\"middle\" x=\"438.5\" y=\"-153.8\" font-family=\"Times,serif\" font-size=\"14.00\" fill=\"#000000\">data &#45;6.0000</text>\n<polyline fill=\"none\" stroke=\"#000000\" points=\"483,-139.5 483,-175.5 \"/>\n<text text-anchor=\"middle\" x=\"526.5\" y=\"-153.8\" font-family=\"Times,serif\" font-size=\"14.00\" fill=\"#000000\">grad 0.5000</text>\n</g>\n<!-- 140279444091152&#45;&gt;140279444092816+ -->\n<g id=\"edge24\" class=\"edge\">\n<title>140279444091152&#45;&gt;140279444092816+</title>\n<path fill=\"none\" stroke=\"#000000\" d=\"M568.9566,-139.4901C578.7184,-137.9673 588.037,-136.5137 596.3947,-135.21\"/>\n<polygon fill=\"#000000\" stroke=\"#000000\" points=\"597.0871,-138.6444 606.4281,-133.6449 596.0082,-131.7281 597.0871,-138.6444\"/>\n</g>\n<!-- 140279444091152*&#45;&gt;140279444091152 -->\n<g id=\"edge4\" class=\"edge\">\n<title>140279444091152*&#45;&gt;140279444091152</title>\n<path fill=\"none\" stroke=\"#000000\" d=\"M301.2622,-157.5C308.8324,-157.5 317.5801,-157.5 326.9781,-157.5\"/>\n<polygon fill=\"#000000\" stroke=\"#000000\" points=\"326.9853,-161.0001 336.9853,-157.5 326.9852,-154.0001 326.9853,-161.0001\"/>\n</g>\n<!-- 140279444094928 -->\n<g id=\"node14\" class=\"node\">\n<title>140279444094928</title>\n<polygon fill=\"none\" stroke=\"#000000\" points=\"2307,-27.5 2307,-63.5 2499,-63.5 2499,-27.5 2307,-27.5\"/>\n<text text-anchor=\"middle\" x=\"2317\" y=\"-41.8\" font-family=\"Times,serif\" font-size=\"14.00\" fill=\"#000000\"> </text>\n<polyline fill=\"none\" stroke=\"#000000\" points=\"2327,-27.5 2327,-63.5 \"/>\n<text text-anchor=\"middle\" x=\"2369.5\" y=\"-41.8\" font-family=\"Times,serif\" font-size=\"14.00\" fill=\"#000000\">data 4.8284</text>\n<polyline fill=\"none\" stroke=\"#000000\" points=\"2412,-27.5 2412,-63.5 \"/>\n<text text-anchor=\"middle\" x=\"2455.5\" y=\"-41.8\" font-family=\"Times,serif\" font-size=\"14.00\" fill=\"#000000\">grad 0.1464</text>\n</g>\n<!-- 140279444458448* -->\n<g id=\"node28\" class=\"node\">\n<title>140279444458448*</title>\n<ellipse fill=\"none\" stroke=\"#000000\" cx=\"2790\" cy=\"-72.5\" rx=\"27\" ry=\"18\"/>\n<text text-anchor=\"middle\" x=\"2790\" y=\"-68.8\" font-family=\"Times,serif\" font-size=\"14.00\" fill=\"#000000\">*</text>\n</g>\n<!-- 140279444094928&#45;&gt;140279444458448* -->\n<g id=\"edge16\" class=\"edge\">\n<title>140279444094928&#45;&gt;140279444458448*</title>\n<path fill=\"none\" stroke=\"#000000\" d=\"M2499.1602,-52.2088C2581.1383,-57.9283 2694.6348,-65.8466 2752.6244,-69.8924\"/>\n<polygon fill=\"#000000\" stroke=\"#000000\" points=\"2752.5669,-73.3968 2762.7863,-70.6014 2753.0542,-66.4138 2752.5669,-73.3968\"/>\n</g>\n<!-- 140279444094928+ -->\n<g id=\"node15\" class=\"node\">\n<title>140279444094928+</title>\n<ellipse fill=\"none\" stroke=\"#000000\" cx=\"2011\" cy=\"-45.5\" rx=\"27\" ry=\"18\"/>\n<text text-anchor=\"middle\" x=\"2011\" y=\"-41.8\" font-family=\"Times,serif\" font-size=\"14.00\" fill=\"#000000\">+</text>\n</g>\n<!-- 140279444094928+&#45;&gt;140279444094928 -->\n<g id=\"edge5\" class=\"edge\">\n<title>140279444094928+&#45;&gt;140279444094928</title>\n<path fill=\"none\" stroke=\"#000000\" d=\"M2038.2535,-45.5C2090.8629,-45.5 2208.9488,-45.5 2296.5875,-45.5\"/>\n<polygon fill=\"#000000\" stroke=\"#000000\" points=\"2296.8483,-49.0001 2306.8482,-45.5 2296.8482,-42.0001 2296.8483,-49.0001\"/>\n</g>\n<!-- 140279444094160 -->\n<g id=\"node16\" class=\"node\">\n<title>140279444094160</title>\n<polygon fill=\"none\" stroke=\"#000000\" points=\"1751.5,-.5 1751.5,-36.5 1947.5,-36.5 1947.5,-.5 1751.5,-.5\"/>\n<text text-anchor=\"middle\" x=\"1761.5\" y=\"-14.8\" font-family=\"Times,serif\" font-size=\"14.00\" fill=\"#000000\"> </text>\n<polyline fill=\"none\" stroke=\"#000000\" points=\"1771.5,-.5 1771.5,-36.5 \"/>\n<text text-anchor=\"middle\" x=\"1816\" y=\"-14.8\" font-family=\"Times,serif\" font-size=\"14.00\" fill=\"#000000\">data &#45;1.0000</text>\n<polyline fill=\"none\" stroke=\"#000000\" points=\"1860.5,-.5 1860.5,-36.5 \"/>\n<text text-anchor=\"middle\" x=\"1904\" y=\"-14.8\" font-family=\"Times,serif\" font-size=\"14.00\" fill=\"#000000\">grad 0.1464</text>\n</g>\n<!-- 140279444094160&#45;&gt;140279444094928+ -->\n<g id=\"edge26\" class=\"edge\">\n<title>140279444094160&#45;&gt;140279444094928+</title>\n<path fill=\"none\" stroke=\"#000000\" d=\"M1947.6344,-34.9064C1957.2015,-36.5058 1966.4268,-38.0481 1974.738,-39.4376\"/>\n<polygon fill=\"#000000\" stroke=\"#000000\" points=\"1974.2933,-42.9118 1984.7336,-41.1087 1975.4477,-36.0076 1974.2933,-42.9118\"/>\n</g>\n<!-- 140279444458832 -->\n<g id=\"node17\" class=\"node\">\n<title>140279444458832</title>\n<polygon fill=\"none\" stroke=\"#000000\" points=\"2535,-80.5 2535,-116.5 2727,-116.5 2727,-80.5 2535,-80.5\"/>\n<text text-anchor=\"middle\" x=\"2545\" y=\"-94.8\" font-family=\"Times,serif\" font-size=\"14.00\" fill=\"#000000\"> </text>\n<polyline fill=\"none\" stroke=\"#000000\" points=\"2555,-80.5 2555,-116.5 \"/>\n<text text-anchor=\"middle\" x=\"2597.5\" y=\"-94.8\" font-family=\"Times,serif\" font-size=\"14.00\" fill=\"#000000\">data 0.1464</text>\n<polyline fill=\"none\" stroke=\"#000000\" points=\"2640,-80.5 2640,-116.5 \"/>\n<text text-anchor=\"middle\" x=\"2683.5\" y=\"-94.8\" font-family=\"Times,serif\" font-size=\"14.00\" fill=\"#000000\">grad 4.8284</text>\n</g>\n<!-- 140279444458832&#45;&gt;140279444458448* -->\n<g id=\"edge19\" class=\"edge\">\n<title>140279444458832&#45;&gt;140279444458448*</title>\n<path fill=\"none\" stroke=\"#000000\" d=\"M2727.159,-82.7759C2736.4355,-81.259 2745.3952,-79.7939 2753.5016,-78.4683\"/>\n<polygon fill=\"#000000\" stroke=\"#000000\" points=\"2754.3176,-81.8814 2763.6217,-76.8134 2753.1879,-74.9732 2754.3176,-81.8814\"/>\n</g>\n<!-- 140279444458832**&#45;1&#45;&gt;140279444458832 -->\n<g id=\"edge6\" class=\"edge\">\n<title>140279444458832**&#45;1&#45;&gt;140279444458832</title>\n<path fill=\"none\" stroke=\"#000000\" d=\"M2431.8764,-100.2467C2455.5427,-100.0391 2490.5807,-99.7317 2524.6954,-99.4325\"/>\n<polygon fill=\"#000000\" stroke=\"#000000\" points=\"2524.7904,-102.9319 2534.7593,-99.3442 2524.7289,-95.9322 2524.7904,-102.9319\"/>\n</g>\n<!-- 140279444094288 -->\n<g id=\"node19\" class=\"node\">\n<title>140279444094288</title>\n<polygon fill=\"none\" stroke=\"#000000\" points=\"1433,-55.5 1433,-91.5 1625,-91.5 1625,-55.5 1433,-55.5\"/>\n<text text-anchor=\"middle\" x=\"1443\" y=\"-69.8\" font-family=\"Times,serif\" font-size=\"14.00\" fill=\"#000000\"> </text>\n<polyline fill=\"none\" stroke=\"#000000\" points=\"1453,-55.5 1453,-91.5 \"/>\n<text text-anchor=\"middle\" x=\"1495.5\" y=\"-69.8\" font-family=\"Times,serif\" font-size=\"14.00\" fill=\"#000000\">data 1.7627</text>\n<polyline fill=\"none\" stroke=\"#000000\" points=\"1538,-55.5 1538,-91.5 \"/>\n<text text-anchor=\"middle\" x=\"1581.5\" y=\"-69.8\" font-family=\"Times,serif\" font-size=\"14.00\" fill=\"#000000\">grad 0.2500</text>\n</g>\n<!-- 140279444094352exp -->\n<g id=\"node24\" class=\"node\">\n<title>140279444094352exp</title>\n<ellipse fill=\"none\" stroke=\"#000000\" cx=\"1688\" cy=\"-73.5\" rx=\"27\" ry=\"18\"/>\n<text text-anchor=\"middle\" x=\"1688\" y=\"-69.8\" font-family=\"Times,serif\" font-size=\"14.00\" fill=\"#000000\">exp</text>\n</g>\n<!-- 140279444094288&#45;&gt;140279444094352exp -->\n<g id=\"edge11\" class=\"edge\">\n<title>140279444094288&#45;&gt;140279444094352exp</title>\n<path fill=\"none\" stroke=\"#000000\" d=\"M1625.159,-73.5C1634.0615,-73.5 1642.6722,-73.5 1650.517,-73.5\"/>\n<polygon fill=\"#000000\" stroke=\"#000000\" points=\"1650.6952,-77.0001 1660.6952,-73.5 1650.6951,-70.0001 1650.6952,-77.0001\"/>\n</g>\n<!-- 140279444094288*&#45;&gt;140279444094288 -->\n<g id=\"edge7\" class=\"edge\">\n<title>140279444094288*&#45;&gt;140279444094288</title>\n<path fill=\"none\" stroke=\"#000000\" d=\"M1397.3331,-73.5C1404.8317,-73.5 1413.4389,-73.5 1422.5849,-73.5\"/>\n<polygon fill=\"#000000\" stroke=\"#000000\" points=\"1422.6939,-77.0001 1432.6939,-73.5 1422.6939,-70.0001 1422.6939,-77.0001\"/>\n</g>\n<!-- 140279444091792 -->\n<g id=\"node21\" class=\"node\">\n<title>140279444091792</title>\n<polygon fill=\"none\" stroke=\"#000000\" points=\"3.5,-29.5 3.5,-65.5 207.5,-65.5 207.5,-29.5 3.5,-29.5\"/>\n<text text-anchor=\"middle\" x=\"19.5\" y=\"-43.8\" font-family=\"Times,serif\" font-size=\"14.00\" fill=\"#000000\">x2</text>\n<polyline fill=\"none\" stroke=\"#000000\" points=\"35.5,-29.5 35.5,-65.5 \"/>\n<text text-anchor=\"middle\" x=\"78\" y=\"-43.8\" font-family=\"Times,serif\" font-size=\"14.00\" fill=\"#000000\">data 0.0000</text>\n<polyline fill=\"none\" stroke=\"#000000\" points=\"120.5,-29.5 120.5,-65.5 \"/>\n<text text-anchor=\"middle\" x=\"164\" y=\"-43.8\" font-family=\"Times,serif\" font-size=\"14.00\" fill=\"#000000\">grad 0.5000</text>\n</g>\n<!-- 140279444091792&#45;&gt;140279444091344* -->\n<g id=\"edge12\" class=\"edge\">\n<title>140279444091792&#45;&gt;140279444091344*</title>\n<path fill=\"none\" stroke=\"#000000\" d=\"M179.1277,-65.5688C189.8946,-68.636 200.7889,-71.9778 211,-75.5 221.4855,-79.1168 232.6874,-83.6793 242.694,-88.0193\"/>\n<polygon fill=\"#000000\" stroke=\"#000000\" points=\"241.2981,-91.229 251.8592,-92.0741 244.1302,-84.8274 241.2981,-91.229\"/>\n</g>\n<!-- 140279444092752 -->\n<g id=\"node22\" class=\"node\">\n<title>140279444092752</title>\n<polygon fill=\"none\" stroke=\"#000000\" points=\"1751,-110.5 1751,-146.5 1948,-146.5 1948,-110.5 1751,-110.5\"/>\n<text text-anchor=\"middle\" x=\"1761\" y=\"-124.8\" font-family=\"Times,serif\" font-size=\"14.00\" fill=\"#000000\"> </text>\n<polyline fill=\"none\" stroke=\"#000000\" points=\"1771,-110.5 1771,-146.5 \"/>\n<text text-anchor=\"middle\" x=\"1813.5\" y=\"-124.8\" font-family=\"Times,serif\" font-size=\"14.00\" fill=\"#000000\">data 1.0000</text>\n<polyline fill=\"none\" stroke=\"#000000\" points=\"1856,-110.5 1856,-146.5 \"/>\n<text text-anchor=\"middle\" x=\"1902\" y=\"-124.8\" font-family=\"Times,serif\" font-size=\"14.00\" fill=\"#000000\">grad &#45;0.1036</text>\n</g>\n<!-- 140279444092752&#45;&gt;140279444092624+ -->\n<g id=\"edge13\" class=\"edge\">\n<title>140279444092752&#45;&gt;140279444092624+</title>\n<path fill=\"none\" stroke=\"#000000\" d=\"M1948.0974,-111.4057C1957.5173,-109.7725 1966.5961,-108.1985 1974.7856,-106.7787\"/>\n<polygon fill=\"#000000\" stroke=\"#000000\" points=\"1975.387,-110.2267 1984.6421,-105.0698 1974.1912,-103.3296 1975.387,-110.2267\"/>\n</g>\n<!-- 140279444094352 -->\n<g id=\"node23\" class=\"node\">\n<title>140279444094352</title>\n<polygon fill=\"none\" stroke=\"#000000\" points=\"1753.5,-55.5 1753.5,-91.5 1945.5,-91.5 1945.5,-55.5 1753.5,-55.5\"/>\n<text text-anchor=\"middle\" x=\"1763.5\" y=\"-69.8\" font-family=\"Times,serif\" font-size=\"14.00\" fill=\"#000000\"> </text>\n<polyline fill=\"none\" stroke=\"#000000\" points=\"1773.5,-55.5 1773.5,-91.5 \"/>\n<text text-anchor=\"middle\" x=\"1816\" y=\"-69.8\" font-family=\"Times,serif\" font-size=\"14.00\" fill=\"#000000\">data 5.8284</text>\n<polyline fill=\"none\" stroke=\"#000000\" points=\"1858.5,-55.5 1858.5,-91.5 \"/>\n<text text-anchor=\"middle\" x=\"1902\" y=\"-69.8\" font-family=\"Times,serif\" font-size=\"14.00\" fill=\"#000000\">grad 0.0429</text>\n</g>\n<!-- 140279444094352&#45;&gt;140279444092624+ -->\n<g id=\"edge20\" class=\"edge\">\n<title>140279444094352&#45;&gt;140279444092624+</title>\n<path fill=\"none\" stroke=\"#000000\" d=\"M1945.7773,-89.5959C1955.8624,-91.2819 1965.6117,-92.9119 1974.3636,-94.375\"/>\n<polygon fill=\"#000000\" stroke=\"#000000\" points=\"1974.0594,-97.8727 1984.4997,-96.0696 1975.2137,-90.9685 1974.0594,-97.8727\"/>\n</g>\n<!-- 140279444094352&#45;&gt;140279444094928+ -->\n<g id=\"edge17\" class=\"edge\">\n<title>140279444094352&#45;&gt;140279444094928+</title>\n<path fill=\"none\" stroke=\"#000000\" d=\"M1945.7773,-56.808C1956.0703,-55.0234 1966.0136,-53.2995 1974.9036,-51.7582\"/>\n<polygon fill=\"#000000\" stroke=\"#000000\" points=\"1975.5587,-55.1969 1984.8137,-50.04 1974.3628,-48.2998 1975.5587,-55.1969\"/>\n</g>\n<!-- 140279444094352exp&#45;&gt;140279444094352 -->\n<g id=\"edge8\" class=\"edge\">\n<title>140279444094352exp&#45;&gt;140279444094352</title>\n<path fill=\"none\" stroke=\"#000000\" d=\"M1715.0315,-73.5C1723.3333,-73.5 1733.0215,-73.5 1743.3247,-73.5\"/>\n<polygon fill=\"#000000\" stroke=\"#000000\" points=\"1743.3664,-77.0001 1753.3663,-73.5 1743.3663,-70.0001 1743.3664,-77.0001\"/>\n</g>\n<!-- 140279444092816 -->\n<g id=\"node25\" class=\"node\">\n<title>140279444092816</title>\n<polygon fill=\"none\" stroke=\"#000000\" points=\"696,-111.5 696,-147.5 985,-147.5 985,-111.5 696,-111.5\"/>\n<text text-anchor=\"middle\" x=\"752.5\" y=\"-125.8\" font-family=\"Times,serif\" font-size=\"14.00\" fill=\"#000000\">x1*w1 + x2*w2</text>\n<polyline fill=\"none\" stroke=\"#000000\" points=\"809,-111.5 809,-147.5 \"/>\n<text text-anchor=\"middle\" x=\"853.5\" y=\"-125.8\" font-family=\"Times,serif\" font-size=\"14.00\" fill=\"#000000\">data &#45;6.0000</text>\n<polyline fill=\"none\" stroke=\"#000000\" points=\"898,-111.5 898,-147.5 \"/>\n<text text-anchor=\"middle\" x=\"941.5\" y=\"-125.8\" font-family=\"Times,serif\" font-size=\"14.00\" fill=\"#000000\">grad 0.5000</text>\n</g>\n<!-- 140279444092816&#45;&gt;140279444093712+ -->\n<g id=\"edge15\" class=\"edge\">\n<title>140279444092816&#45;&gt;140279444093712+</title>\n<path fill=\"none\" stroke=\"#000000\" d=\"M973.9665,-111.4901C987.5596,-109.6558 1000.4093,-107.9219 1011.4695,-106.4294\"/>\n<polygon fill=\"#000000\" stroke=\"#000000\" points=\"1012.049,-109.883 1021.4911,-105.0771 1011.1128,-102.9459 1012.049,-109.883\"/>\n</g>\n<!-- 140279444092816+&#45;&gt;140279444092816 -->\n<g id=\"edge9\" class=\"edge\">\n<title>140279444092816+&#45;&gt;140279444092816</title>\n<path fill=\"none\" stroke=\"#000000\" d=\"M660.127,-129.5C667.628,-129.5 676.3363,-129.5 685.7965,-129.5\"/>\n<polygon fill=\"#000000\" stroke=\"#000000\" points=\"685.9081,-133.0001 695.908,-129.5 685.908,-126.0001 685.9081,-133.0001\"/>\n</g>\n<!-- 140279444458448 -->\n<g id=\"node27\" class=\"node\">\n<title>140279444458448</title>\n<polygon fill=\"none\" stroke=\"#000000\" points=\"2853,-54.5 2853,-90.5 3049,-90.5 3049,-54.5 2853,-54.5\"/>\n<text text-anchor=\"middle\" x=\"2865\" y=\"-68.8\" font-family=\"Times,serif\" font-size=\"14.00\" fill=\"#000000\">o</text>\n<polyline fill=\"none\" stroke=\"#000000\" points=\"2877,-54.5 2877,-90.5 \"/>\n<text text-anchor=\"middle\" x=\"2919.5\" y=\"-68.8\" font-family=\"Times,serif\" font-size=\"14.00\" fill=\"#000000\">data 0.7071</text>\n<polyline fill=\"none\" stroke=\"#000000\" points=\"2962,-54.5 2962,-90.5 \"/>\n<text text-anchor=\"middle\" x=\"3005.5\" y=\"-68.8\" font-family=\"Times,serif\" font-size=\"14.00\" fill=\"#000000\">grad 1.0000</text>\n</g>\n<!-- 140279444458448*&#45;&gt;140279444458448 -->\n<g id=\"edge10\" class=\"edge\">\n<title>140279444458448*&#45;&gt;140279444458448</title>\n<path fill=\"none\" stroke=\"#000000\" d=\"M2817.3115,-72.5C2824.8223,-72.5 2833.4512,-72.5 2842.6318,-72.5\"/>\n<polygon fill=\"#000000\" stroke=\"#000000\" points=\"2842.7835,-76.0001 2852.7835,-72.5 2842.7835,-69.0001 2842.7835,-76.0001\"/>\n</g>\n</g>\n</svg>\n"
          },
          "metadata": {},
          "execution_count": 33
        }
      ]
    },
    {
      "cell_type": "code",
      "source": [
        "import torch                              # tensors are just n-dimensional arrays of scalars\n",
        "\n",
        "x1 = torch.Tensor([2.0]).double()                ; x1.requires_grad = True\n",
        "x2 = torch.Tensor([0.0]).double()                ; x2.requires_grad = True\n",
        "w1 = torch.Tensor([-3.0]).double()               ; w1.requires_grad = True\n",
        "w2 = torch.Tensor([1.0]).double()                ; w2.requires_grad = True\n",
        "b = torch.Tensor([6.8813735870195432]).double()  ; b.requires_grad = True\n",
        "n = x1*w1 + x2*w2 + b\n",
        "o = torch.tanh(n)\n",
        "\n",
        "print(o.data.item())\n",
        "o.backward()\n",
        "\n",
        "print('---')\n",
        "print('x2', x2.grad.item())\n",
        "print('w2', w2.grad.item())\n",
        "print('x1', x1.grad.item())\n",
        "print('w1', w1.grad.item())"
      ],
      "metadata": {
        "colab": {
          "base_uri": "https://localhost:8080/"
        },
        "id": "d0Pa_GvIlIEn",
        "outputId": "eb9686c8-6518-48d4-fb6a-eb18f3bb9e6d"
      },
      "id": "d0Pa_GvIlIEn",
      "execution_count": 34,
      "outputs": [
        {
          "output_type": "stream",
          "name": "stdout",
          "text": [
            "0.7071066904050358\n",
            "---\n",
            "x2 0.5000001283844369\n",
            "w2 0.0\n",
            "x1 -1.5000003851533106\n",
            "w1 1.0000002567688737\n"
          ]
        }
      ]
    },
    {
      "cell_type": "code",
      "source": [
        "class Neuron:\n",
        "\n",
        "  def __init__(self, nin):\n",
        "    self.w = [Value(random.uniform(-1,1)) for _ in range(nin)]\n",
        "    self.b = Value(random.uniform(-1,1))\n",
        "  \n",
        "  def __call__(self, x):\n",
        "    # w * x + b\n",
        "    act = sum((wi*xi for wi, xi in zip(self.w, x)), self.b)\n",
        "    out = act.tanh()\n",
        "    return out\n",
        "  \n",
        "  def parameters(self):\n",
        "    return self.w + [self.b]\n",
        "\n",
        "class Layer:\n",
        "  \n",
        "  def __init__(self, nin, nout):\n",
        "    self.neurons = [Neuron(nin) for _ in range(nout)]\n",
        "  \n",
        "  def __call__(self, x):\n",
        "    outs = [n(x) for n in self.neurons]\n",
        "    return outs[0] if len(outs) == 1 else outs\n",
        "  \n",
        "  def parameters(self):\n",
        "    return [p for neuron in self.neurons for p in neuron.parameters()]\n",
        "\n",
        "class MLP:\n",
        "  \n",
        "  def __init__(self, nin, nouts):\n",
        "    sz = [nin] + nouts\n",
        "    self.layers = [Layer(sz[i], sz[i+1]) for i in range(len(nouts))]\n",
        "  \n",
        "  def __call__(self, x):\n",
        "    for layer in self.layers:\n",
        "      x = layer(x)\n",
        "    return x\n",
        "  \n",
        "  def parameters(self):\n",
        "    return [p for layer in self.layers for p in layer.parameters()]"
      ],
      "metadata": {
        "id": "8wOz03AVmn8s"
      },
      "id": "8wOz03AVmn8s",
      "execution_count": 36,
      "outputs": []
    },
    {
      "cell_type": "code",
      "source": [
        "x = [2.0, 3.0, -1.0]\n",
        "n = MLP(3, [4, 4, 1])\n",
        "n(x)"
      ],
      "metadata": {
        "colab": {
          "base_uri": "https://localhost:8080/"
        },
        "id": "Swp330xFacyS",
        "outputId": "5d9902db-3381-472a-e7a4-3736393b3f43"
      },
      "id": "Swp330xFacyS",
      "execution_count": 37,
      "outputs": [
        {
          "output_type": "execute_result",
          "data": {
            "text/plain": [
              "Value(data=-0.8859445462094603)"
            ]
          },
          "metadata": {},
          "execution_count": 37
        }
      ]
    },
    {
      "cell_type": "code",
      "source": [
        "xs = [\n",
        "  [2.0, 3.0, -1.0],\n",
        "  [3.0, -1.0, 0.5],\n",
        "  [0.5, 1.0, 1.0],\n",
        "  [1.0, 1.0, -1.0],\n",
        "]\n",
        "ys = [1.0, -1.0, -1.0, 1.0] # desired targets\n",
        "ypred = [n(x) for x in xs]\n",
        "ypred"
      ],
      "metadata": {
        "colab": {
          "base_uri": "https://localhost:8080/"
        },
        "id": "GMkAyyGMcBez",
        "outputId": "b4e272fa-fddc-4af9-c25e-365c745a7d36"
      },
      "id": "GMkAyyGMcBez",
      "execution_count": 41,
      "outputs": [
        {
          "output_type": "execute_result",
          "data": {
            "text/plain": [
              "[Value(data=0.9402507616912366),\n",
              " Value(data=-0.929444439858131),\n",
              " Value(data=-0.9178837915584073),\n",
              " Value(data=0.9202893239412935)]"
            ]
          },
          "metadata": {},
          "execution_count": 41
        }
      ]
    },
    {
      "cell_type": "code",
      "source": [
        "len(n.parameters())"
      ],
      "metadata": {
        "colab": {
          "base_uri": "https://localhost:8080/"
        },
        "id": "3GQAOrPXlqqy",
        "outputId": "d947ba88-ab59-42b6-f727-a7bb1bbac436"
      },
      "id": "3GQAOrPXlqqy",
      "execution_count": 57,
      "outputs": [
        {
          "output_type": "execute_result",
          "data": {
            "text/plain": [
              "41"
            ]
          },
          "metadata": {},
          "execution_count": 57
        }
      ]
    },
    {
      "cell_type": "code",
      "source": [
        "loss = sum((yout - ygt)**2 for ygt, yout in zip(ys, ypred))            # loss function\n",
        "loss                                                                   # greater the loss is worst our NN is predicting                                                                  "
      ],
      "metadata": {
        "colab": {
          "base_uri": "https://localhost:8080/"
        },
        "id": "rV6d1852cDny",
        "outputId": "45a7483a-8a24-44bf-adb6-d51967fa5155"
      },
      "id": "rV6d1852cDny",
      "execution_count": 58,
      "outputs": [
        {
          "output_type": "execute_result",
          "data": {
            "text/plain": [
              "Value(data=0.021644922111969455)"
            ]
          },
          "metadata": {},
          "execution_count": 58
        }
      ]
    },
    {
      "cell_type": "code",
      "source": [
        "ypred = [n(x) for x in xs]                                       # comback here after gradient descent step\n",
        "loss = sum((yout - ygt)**2 for ygt, yout in zip(ys, ypred))      # loss has changed and came from 0.0216 to 0.0172\n",
        "loss                                                             # low loss means our prrdictions are mtaching the target "
      ],
      "metadata": {
        "colab": {
          "base_uri": "https://localhost:8080/"
        },
        "id": "g-6p4O_bqJQg",
        "outputId": "6e1189f6-0267-46b8-cc7a-b561b0739e19"
      },
      "id": "g-6p4O_bqJQg",
      "execution_count": 67,
      "outputs": [
        {
          "output_type": "execute_result",
          "data": {
            "text/plain": [
              "Value(data=0.017269199358042144)"
            ]
          },
          "metadata": {},
          "execution_count": 67
        }
      ]
    },
    {
      "cell_type": "code",
      "source": [
        "loss.backward()                                                  # it will find the gradients of the weights of a NN"
      ],
      "metadata": {
        "id": "FGpge-aAhowv"
      },
      "id": "FGpge-aAhowv",
      "execution_count": 59,
      "outputs": []
    },
    {
      "cell_type": "code",
      "source": [
        "n.layers[0].neurons[0].w[0].grad                                # gradient of this neural is -ve, the influence of neural on the loss is also -ve\n",
        "                                                                # so slightly increasing this particular weight of this neuron of this layer make the \n",
        "                                                                # loss go down and we have this informattion for every weight in the network "
      ],
      "metadata": {
        "colab": {
          "base_uri": "https://localhost:8080/"
        },
        "id": "SaRxYiLbhrjt",
        "outputId": "32cec5fc-8d11-40aa-efe6-54c91e9a15a7"
      },
      "id": "SaRxYiLbhrjt",
      "execution_count": 60,
      "outputs": [
        {
          "output_type": "execute_result",
          "data": {
            "text/plain": [
              "-0.5008800660227266"
            ]
          },
          "metadata": {},
          "execution_count": 60
        }
      ]
    },
    {
      "cell_type": "markdown",
      "source": [
        "if the this nerons value goes down that means it increased the loss that is coz deravative of this neuron is negative, so increasing this makes the loss go down."
      ],
      "metadata": {
        "id": "jOrzfrc3nWux"
      },
      "id": "jOrzfrc3nWux"
    },
    {
      "cell_type": "code",
      "source": [
        "n.layers[0].neurons[0].w[0].data                                "
      ],
      "metadata": {
        "colab": {
          "base_uri": "https://localhost:8080/"
        },
        "id": "LcrM0w-zhrgz",
        "outputId": "66b812f7-4a12-4015-91a3-a18827e03423"
      },
      "id": "LcrM0w-zhrgz",
      "execution_count": 62,
      "outputs": [
        {
          "output_type": "execute_result",
          "data": {
            "text/plain": [
              "-0.024917264744470646"
            ]
          },
          "metadata": {},
          "execution_count": 62
        }
      ]
    },
    {
      "cell_type": "code",
      "source": [
        "#draw_dot(loss)"
      ],
      "metadata": {
        "id": "qjr07MJWkpGm"
      },
      "id": "qjr07MJWkpGm",
      "execution_count": 52,
      "outputs": []
    },
    {
      "cell_type": "markdown",
      "source": [
        "**Gradients of the input data is not useful to us because inputs data seems to be not changeable**. so it is a fixed input we are not gonna change it or messing with it."
      ],
      "metadata": {
        "id": "jnc-r4o7kBtj"
      },
      "id": "jnc-r4o7kBtj"
    },
    {
      "cell_type": "code",
      "source": [
        "for p in n.parameters():                      # we think of gradient as a vector pointing in the direction of increased loss\n",
        "    p.data += -0.01 * p.grad                     # in gradient decent we are modifying p.data by small step size in the direction of the gradient\n",
        "                                              # step size could be like 0.01\n",
        "                      "
      ],
      "metadata": {
        "id": "mg8-oL9Bhreu"
      },
      "id": "mg8-oL9Bhreu",
      "execution_count": 64,
      "outputs": []
    },
    {
      "cell_type": "markdown",
      "source": [
        "Other interpretation for the -ve sign of the step size is as you can think of gradient vector as pointing in the direction of increasing the loss but we want to decrease the loss."
      ],
      "metadata": {
        "id": "xM2c6uepoeoF"
      },
      "id": "xM2c6uepoeoF"
    },
    {
      "cell_type": "code",
      "source": [
        "n.layers[0].neurons[0].w[0].data             # it moved little bit to th direction of 1."
      ],
      "metadata": {
        "colab": {
          "base_uri": "https://localhost:8080/"
        },
        "id": "BqMHWaifpnb9",
        "outputId": "e60ea241-dc95-45a6-ea52-fb0f5b9604d9"
      },
      "id": "BqMHWaifpnb9",
      "execution_count": 65,
      "outputs": [
        {
          "output_type": "execute_result",
          "data": {
            "text/plain": [
              "-0.01990846408424338"
            ]
          },
          "metadata": {},
          "execution_count": 65
        }
      ]
    },
    {
      "cell_type": "code",
      "source": [
        "ypred = [n(x) for x in xs]                                            # forward pass\n",
        "loss = sum((yout - ygt)**2 for ygt, yout in zip(ys, ypred))\n",
        "loss     \n",
        "\n",
        "loss.backward()                                                        # backward pass\n",
        "\n",
        "for p in n.parameters():\n",
        "   p.data += -0.01 * p.grad                                             # updation\n",
        "\n",
        "loss  "
      ],
      "metadata": {
        "colab": {
          "base_uri": "https://localhost:8080/"
        },
        "id": "Lq4Q03gdpnZa",
        "outputId": "b825392b-7be1-465a-d048-e54fd4fd7852"
      },
      "id": "Lq4Q03gdpnZa",
      "execution_count": 88,
      "outputs": [
        {
          "output_type": "execute_result",
          "data": {
            "text/plain": [
              "Value(data=0.0006059555513157758)"
            ]
          },
          "metadata": {},
          "execution_count": 88
        }
      ]
    },
    {
      "cell_type": "code",
      "source": [
        "ypred                                                                    # almost there"
      ],
      "metadata": {
        "colab": {
          "base_uri": "https://localhost:8080/"
        },
        "id": "QHpGsoODpnXG",
        "outputId": "a88d80dc-d61d-4c85-f64b-1fba0308498d"
      },
      "id": "QHpGsoODpnXG",
      "execution_count": 90,
      "outputs": [
        {
          "output_type": "execute_result",
          "data": {
            "text/plain": [
              "[Value(data=0.9906969682606184),\n",
              " Value(data=-0.9873278836376068),\n",
              " Value(data=-0.9871251208008075),\n",
              " Value(data=0.9861052490387197)]"
            ]
          },
          "metadata": {},
          "execution_count": 90
        }
      ]
    },
    {
      "cell_type": "markdown",
      "source": [
        "if you go too fast or try to make it too big step you may actually overstep coz we don't exactly know about the loss function, loss function has all kinds of structure and we only know about the very local dependence of all these parameters on the loss but if we step too far we may step into part of the loss that is completely different and **that can destablize training and make your loss actually blow up**"
      ],
      "metadata": {
        "id": "Gwpt4nFBryvG"
      },
      "id": "Gwpt4nFBryvG"
    },
    {
      "cell_type": "code",
      "source": [
        "n.parameters()"
      ],
      "metadata": {
        "colab": {
          "base_uri": "https://localhost:8080/"
        },
        "id": "5NjcrCzupnUw",
        "outputId": "3cf70351-29d0-43e1-9575-d4551c4d30b5"
      },
      "id": "5NjcrCzupnUw",
      "execution_count": 91,
      "outputs": [
        {
          "output_type": "execute_result",
          "data": {
            "text/plain": [
              "[Value(data=0.05975031571697954),\n",
              " Value(data=-0.6213713338959918),\n",
              " Value(data=0.8003438912363907),\n",
              " Value(data=0.5511901117153535),\n",
              " Value(data=-0.7718215651483759),\n",
              " Value(data=-0.25690106130054646),\n",
              " Value(data=-0.3664671481692538),\n",
              " Value(data=-0.588841122015335),\n",
              " Value(data=0.8036684551355648),\n",
              " Value(data=0.06643232633752195),\n",
              " Value(data=-0.6531059505953419),\n",
              " Value(data=0.902680600812958),\n",
              " Value(data=-0.24476380891741686),\n",
              " Value(data=0.30391269553529077),\n",
              " Value(data=-1.4865570561876045),\n",
              " Value(data=-0.1281919857849359),\n",
              " Value(data=-0.8303354128219167),\n",
              " Value(data=-0.5192731756165255),\n",
              " Value(data=0.2547535070168257),\n",
              " Value(data=1.337611754593326),\n",
              " Value(data=-0.9420874242123376),\n",
              " Value(data=0.7631755196048763),\n",
              " Value(data=0.237174433583195),\n",
              " Value(data=0.5911261155591218),\n",
              " Value(data=0.045916301234390514),\n",
              " Value(data=0.43161751041248253),\n",
              " Value(data=-0.6350640804393196),\n",
              " Value(data=-0.07365040060305401),\n",
              " Value(data=-0.10826486062564177),\n",
              " Value(data=-0.9005347302918979),\n",
              " Value(data=-0.5786459485312019),\n",
              " Value(data=0.2807557172585675),\n",
              " Value(data=-0.3345736977508918),\n",
              " Value(data=-1.0995838783745981),\n",
              " Value(data=-1.2146297591608017),\n",
              " Value(data=0.7657245938402225),\n",
              " Value(data=1.5687501106830037),\n",
              " Value(data=-0.4615768525558789),\n",
              " Value(data=-0.19985903027683508),\n",
              " Value(data=-1.0364739512750714),\n",
              " Value(data=0.22659110181303696)]"
            ]
          },
          "metadata": {},
          "execution_count": 91
        }
      ]
    },
    {
      "cell_type": "markdown",
      "source": [
        "Little cleaner Code"
      ],
      "metadata": {
        "id": "LU0SN6_Qvfzj"
      },
      "id": "LU0SN6_Qvfzj"
    },
    {
      "cell_type": "code",
      "source": [
        "x = [2.0, 3.0, -1.0]\n",
        "n = MLP(3, [4, 4, 1])\n",
        "n(x)"
      ],
      "metadata": {
        "colab": {
          "base_uri": "https://localhost:8080/"
        },
        "id": "LFSCKcv6vaya",
        "outputId": "70130b40-dbdd-4869-f73f-1aa71f68cd1e"
      },
      "id": "LFSCKcv6vaya",
      "execution_count": 96,
      "outputs": [
        {
          "output_type": "execute_result",
          "data": {
            "text/plain": [
              "Value(data=-0.037221108002837226)"
            ]
          },
          "metadata": {},
          "execution_count": 96
        }
      ]
    },
    {
      "cell_type": "code",
      "source": [
        "xs = [\n",
        "  [2.0, 3.0, -1.0],\n",
        "  [3.0, -1.0, 0.5],\n",
        "  [0.5, 1.0, 1.0],\n",
        "  [1.0, 1.0, -1.0],\n",
        "]\n",
        "ys = [1.0, -1.0, -1.0, 1.0] # desired targets"
      ],
      "metadata": {
        "id": "qNe8FfM1vIt-"
      },
      "id": "qNe8FfM1vIt-",
      "execution_count": 97,
      "outputs": []
    },
    {
      "cell_type": "code",
      "source": [
        "for k in range(20):\n",
        "  \n",
        "  # forward pass\n",
        "  ypred = [n(x) for x in xs]\n",
        "  loss = sum((yout - ygt)**2 for ygt, yout in zip(ys, ypred))\n",
        "  \n",
        "  # backward pass\n",
        "  for p in n.parameters():\n",
        "    p.grad = 0.0                                              # putting intial weights to 0 is important so we can accumulate the loss gradient \n",
        "  loss.backward()                                             # for the first time.\n",
        "  \n",
        "  # update\n",
        "  for p in n.parameters():\n",
        "    p.data += -0.1 * p.grad\n",
        "  \n",
        "  print(k, loss.data)"
      ],
      "metadata": {
        "colab": {
          "base_uri": "https://localhost:8080/"
        },
        "id": "iSkupGevcgiQ",
        "outputId": "384f35d9-e8db-474e-801b-4045773d105c"
      },
      "id": "iSkupGevcgiQ",
      "execution_count": 101,
      "outputs": [
        {
          "output_type": "stream",
          "name": "stdout",
          "text": [
            "0 0.0042241496063684415\n",
            "1 0.0041606509926520865\n",
            "2 0.004098950628324825\n",
            "3 0.004038973651912829\n",
            "4 0.003980649339111282\n",
            "5 0.003923910815920572\n",
            "6 0.0038686947958297717\n",
            "7 0.003814941338676811\n",
            "8 0.0037625936290832237\n",
            "9 0.003711597772596157\n",
            "10 0.003661902607874831\n",
            "11 0.0036134595334383337\n",
            "12 0.00356622234764942\n",
            "13 0.0035201471007471367\n",
            "14 0.0034751919578642028\n",
            "15 0.003431317072072387\n",
            "16 0.003388484466595343\n",
            "17 0.003346657925412903\n",
            "18 0.003305802891556493\n",
            "19 0.003265886372462253\n"
          ]
        }
      ]
    }
  ],
  "metadata": {
    "kernelspec": {
      "display_name": "Python 3 (ipykernel)",
      "language": "python",
      "name": "python3"
    },
    "language_info": {
      "codemirror_mode": {
        "name": "ipython",
        "version": 3
      },
      "file_extension": ".py",
      "mimetype": "text/x-python",
      "name": "python",
      "nbconvert_exporter": "python",
      "pygments_lexer": "ipython3",
      "version": "3.10.6"
    },
    "colab": {
      "provenance": [],
      "include_colab_link": true
    }
  },
  "nbformat": 4,
  "nbformat_minor": 5
}