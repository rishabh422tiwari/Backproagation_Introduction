{
  "cells": [
    {
      "cell_type": "markdown",
      "metadata": {
        "id": "view-in-github",
        "colab_type": "text"
      },
      "source": [
        "<a href=\"https://colab.research.google.com/github/rishabh422tiwari/Backproagation_Introduction/blob/main/backprop_part_1.ipynb\" target=\"_parent\"><img src=\"https://colab.research.google.com/assets/colab-badge.svg\" alt=\"Open In Colab\"/></a>"
      ]
    },
    {
      "cell_type": "markdown",
      "id": "09f790d4",
      "metadata": {
        "id": "09f790d4"
      },
      "source": [
        "# Backpropagation Introduction"
      ]
    },
    {
      "cell_type": "markdown",
      "id": "ad4b4d7e",
      "metadata": {
        "id": "ad4b4d7e"
      },
      "source": [
        "Backpropagation is the algorithm which allows you to efficiently evaluate the gradient of some kind of loss function with respect to weights\n",
        "of a neural network and what it allows us to do is iteratively tune the weights of that NN to minimize the loss function therefore increasing the accuraacy of the network. "
      ]
    },
    {
      "cell_type": "code",
      "execution_count": 124,
      "id": "f6c8541a",
      "metadata": {
        "id": "f6c8541a"
      },
      "outputs": [],
      "source": [
        "import math\n",
        "import numpy as np\n",
        "import matplotlib.pyplot as plt\n",
        "%matplotlib inline"
      ]
    },
    {
      "cell_type": "code",
      "execution_count": 125,
      "id": "d48bc9b9",
      "metadata": {
        "id": "d48bc9b9"
      },
      "outputs": [],
      "source": [
        "def f(x):\n",
        "    return 3*x**2 - 4*x + 5"
      ]
    },
    {
      "cell_type": "code",
      "execution_count": 126,
      "id": "975e9743",
      "metadata": {
        "colab": {
          "base_uri": "https://localhost:8080/"
        },
        "id": "975e9743",
        "outputId": "c9f17a5f-a3ce-4b20-88b1-e65c537692ff"
      },
      "outputs": [
        {
          "output_type": "execute_result",
          "data": {
            "text/plain": [
              "37.0"
            ]
          },
          "metadata": {},
          "execution_count": 126
        }
      ],
      "source": [
        "f(4.0)"
      ]
    },
    {
      "cell_type": "code",
      "execution_count": 127,
      "id": "2d684318",
      "metadata": {
        "colab": {
          "base_uri": "https://localhost:8080/"
        },
        "id": "2d684318",
        "outputId": "27cbc733-34bc-4b84-a7f3-9886f4740868"
      },
      "outputs": [
        {
          "output_type": "execute_result",
          "data": {
            "text/plain": [
              "array([100.    ,  91.6875,  83.75  ,  76.1875,  69.    ,  62.1875,\n",
              "        55.75  ,  49.6875,  44.    ,  38.6875,  33.75  ,  29.1875,\n",
              "        25.    ,  21.1875,  17.75  ,  14.6875,  12.    ,   9.6875,\n",
              "         7.75  ,   6.1875,   5.    ,   4.1875,   3.75  ,   3.6875,\n",
              "         4.    ,   4.6875,   5.75  ,   7.1875,   9.    ,  11.1875,\n",
              "        13.75  ,  16.6875,  20.    ,  23.6875,  27.75  ,  32.1875,\n",
              "        37.    ,  42.1875,  47.75  ,  53.6875])"
            ]
          },
          "metadata": {},
          "execution_count": 127
        }
      ],
      "source": [
        "xs = np.arange(-5,5, 0.25)\n",
        "ys = f(xs)\n",
        "ys"
      ]
    },
    {
      "cell_type": "code",
      "execution_count": 128,
      "id": "aa96beb4",
      "metadata": {
        "colab": {
          "base_uri": "https://localhost:8080/",
          "height": 282
        },
        "id": "aa96beb4",
        "outputId": "6383bad5-d84e-47e5-cb0b-b58c023e5196"
      },
      "outputs": [
        {
          "output_type": "execute_result",
          "data": {
            "text/plain": [
              "[<matplotlib.lines.Line2D at 0x7f88328b2d10>]"
            ]
          },
          "metadata": {},
          "execution_count": 128
        },
        {
          "output_type": "display_data",
          "data": {
            "text/plain": [
              "<Figure size 432x288 with 1 Axes>"
            ],
            "image/png": "[encoded data removed]"
          },
          "metadata": {
            "needs_background": "light"
          }
        }
      ],
      "source": [
        "plt.plot(xs, ys)"
      ]
    },
    {
      "cell_type": "code",
      "execution_count": 129,
      "id": "16e91d5d",
      "metadata": {
        "colab": {
          "base_uri": "https://localhost:8080/"
        },
        "id": "16e91d5d",
        "outputId": "074f046e-83d6-4a94-b115-f4aaea0aec20"
      },
      "outputs": [
        {
          "output_type": "execute_result",
          "data": {
            "text/plain": [
              "20.014003000000002"
            ]
          },
          "metadata": {},
          "execution_count": 129
        }
      ],
      "source": [
        "h = 0.001\n",
        "x = 3.0\n",
        "f(x + h)"
      ]
    },
    {
      "cell_type": "code",
      "execution_count": 130,
      "id": "df8531cf",
      "metadata": {
        "id": "df8531cf"
      },
      "outputs": [],
      "source": [
        "#h = 0.001                            # little below 20 that means around -21 or -22\n",
        "#x = -3.0\n",
        "#f(x + h)"
      ]
    },
    {
      "cell_type": "code",
      "execution_count": 131,
      "id": "06acd514",
      "metadata": {
        "colab": {
          "base_uri": "https://localhost:8080/"
        },
        "id": "06acd514",
        "outputId": "46bc9ee1-16ef-4845-ae3e-995811862f60"
      },
      "outputs": [
        {
          "output_type": "execute_result",
          "data": {
            "text/plain": [
              "0.01400300000000243"
            ]
          },
          "metadata": {},
          "execution_count": 131
        }
      ],
      "source": [
        "f(x + h) - f(x)                       # difference between the value of the expression before nudging and after nudging the value of x"
      ]
    },
    {
      "cell_type": "code",
      "execution_count": 132,
      "id": "02899752",
      "metadata": {
        "colab": {
          "base_uri": "https://localhost:8080/"
        },
        "id": "02899752",
        "outputId": "94635a82-8449-4319-fe89-17dbf8e8e325"
      },
      "outputs": [
        {
          "output_type": "execute_result",
          "data": {
            "text/plain": [
              "14.00300000000243"
            ]
          },
          "metadata": {},
          "execution_count": 132
        }
      ],
      "source": [
        "(f(x + h) - f(x))/h                   # this is normalizer form and this value is giving the slope of the expression\n",
        "                                      # if i nudge the value of x how it will affect the expression thats what slope is"
      ]
    },
    {
      "cell_type": "code",
      "execution_count": 133,
      "id": "816420d3",
      "metadata": {
        "colab": {
          "base_uri": "https://localhost:8080/"
        },
        "id": "816420d3",
        "outputId": "cc65c6c7-cbfd-4507-c9d9-c350e908921c"
      },
      "outputs": [
        {
          "output_type": "stream",
          "name": "stdout",
          "text": [
            "4.0\n"
          ]
        }
      ],
      "source": [
        "# lets get more complex\n",
        "a = 2.0\n",
        "b =-3.0\n",
        "c = 10.0\n",
        "d = a*b + c\n",
        "print(d)"
      ]
    },
    {
      "cell_type": "code",
      "execution_count": 134,
      "id": "f0f568ff",
      "metadata": {
        "colab": {
          "base_uri": "https://localhost:8080/"
        },
        "id": "f0f568ff",
        "outputId": "39115135-104c-466d-b29d-62f023f76753"
      },
      "outputs": [
        {
          "output_type": "stream",
          "name": "stdout",
          "text": [
            "d1 4.0\n",
            "d2 3.999699999999999\n",
            "slope -3.000000000010772\n"
          ]
        }
      ],
      "source": [
        "h = 0.0001\n",
        "\n",
        "#inputs\n",
        "a = 2.0\n",
        "b =-3.0\n",
        "c = 10.0\n",
        "\n",
        "d1 = a*b + c\n",
        "a += h                          # bumping the value of 'a' with little\n",
        "d2 = a*b + c                    \n",
        "\n",
        "print('d1', d1)\n",
        "print('d2', d2)\n",
        "print('slope', (d2-d1)/h)\n",
        "\n"
      ]
    },
    {
      "cell_type": "code",
      "execution_count": 135,
      "id": "fe7da4aa",
      "metadata": {
        "colab": {
          "base_uri": "https://localhost:8080/"
        },
        "id": "fe7da4aa",
        "outputId": "107876c7-10c8-4ec8-e8aa-13b770e01cf0"
      },
      "outputs": [
        {
          "output_type": "stream",
          "name": "stdout",
          "text": [
            "d1 3.999699999999999\n",
            "d2 3.99990001\n",
            "slope 2.0001000000124947\n"
          ]
        }
      ],
      "source": [
        "d1 = a*b + c\n",
        "b += h                          # bumping the value of 'b' with little\n",
        "d2 = a*b + c                    \n",
        "\n",
        "print('d1', d1)\n",
        "print('d2', d2)\n",
        "print('slope', (d2-d1)/h)\n",
        "\n"
      ]
    },
    {
      "cell_type": "code",
      "execution_count": 136,
      "id": "049332cc",
      "metadata": {
        "colab": {
          "base_uri": "https://localhost:8080/"
        },
        "id": "049332cc",
        "outputId": "d3ab435f-c6e5-4caf-b867-7d2d4aff1ac7"
      },
      "outputs": [
        {
          "output_type": "stream",
          "name": "stdout",
          "text": [
            "d1 3.99990001\n",
            "d2 4.00000001\n",
            "slope 0.9999999999976694\n"
          ]
        }
      ],
      "source": [
        "d1 = a*b + c\n",
        "c += h                          # bumping the value of 'c' with little\n",
        "d2 = a*b + c                    \n",
        "\n",
        "print('d1', d1)\n",
        "print('d2', d2)\n",
        "print('slope', (d2-d1)/h)\n",
        "\n"
      ]
    },
    {
      "cell_type": "code",
      "execution_count": 137,
      "id": "ab170f9b",
      "metadata": {
        "colab": {
          "base_uri": "https://localhost:8080/"
        },
        "id": "ab170f9b",
        "outputId": "6db82fad-8f75-4bd8-aaa4-344100864f1d"
      },
      "outputs": [
        {
          "output_type": "execute_result",
          "data": {
            "text/plain": [
              "Value(data=-8.0)"
            ]
          },
          "metadata": {},
          "execution_count": 137
        }
      ],
      "source": [
        "class Value:\n",
        "  \n",
        "  def __init__(self, data, _children=(), _op='', label=''):\n",
        "    self.data = data\n",
        "    self.grad = 0.0\n",
        "    self._backward = lambda: None\n",
        "    self._prev = set(_children)\n",
        "    self._op = _op\n",
        "    self.label = label\n",
        "\n",
        "  def __repr__(self):\n",
        "    return f\"Value(data={self.data})\"\n",
        "  \n",
        "  def __add__(self, other):\n",
        "    out = Value(self.data + other.data, (self, other), '+')\n",
        "    \n",
        "    def _backward():\n",
        "      self.grad += 1.0 * out.grad\n",
        "      other.grad += 1.0 * out.grad\n",
        "    out._backward = _backward\n",
        "    \n",
        "    return out\n",
        "\n",
        "  def __mul__(self, other):\n",
        "    out = Value(self.data * other.data, (self, other), '*')\n",
        "    \n",
        "    def _backward():\n",
        "      self.grad += other.data * out.grad\n",
        "      other.grad += self.data * out.grad\n",
        "    out._backward = _backward\n",
        "      \n",
        "    return out\n",
        "  \n",
        "  def tanh(self):\n",
        "    x = self.data\n",
        "    t = (math.exp(2*x) - 1)/(math.exp(2*x) + 1)\n",
        "    out = Value(t, (self, ), 'tanh')\n",
        "    \n",
        "    def _backward():\n",
        "      self.grad += (1 - t**2) * out.grad\n",
        "    out._backward = _backward\n",
        "    \n",
        "    return out\n",
        "  \n",
        "  def backward(self):\n",
        "    \n",
        "    topo = []\n",
        "    visited = set()\n",
        "    def build_topo(v):\n",
        "      if v not in visited:\n",
        "        visited.add(v)\n",
        "        for child in v._prev:\n",
        "          build_topo(child)\n",
        "        topo.append(v)\n",
        "    build_topo(self)\n",
        "    \n",
        "    self.grad = 1.0\n",
        "    for node in reversed(topo):\n",
        "      node._backward()\n",
        "\n",
        "\n",
        "a = Value(2.0, label='a')\n",
        "b = Value(-3.0, label='b')\n",
        "c = Value(10.0, label='c')                             # this is the forward pass of the network i.e we have not performed the backpropagation\n",
        "e = a*b; e.label = 'e'                                 # but calculated the graph (root node, and all the child node)\n",
        "d = e + c; d.label = 'd'\n",
        "f = Value(-2.0, label='f')\n",
        "L = d * f; L.label = 'L'\n",
        "L\n",
        "#(a.__mul__(b)).__add__(c)                      # what python is calling internally"
      ]
    },
    {
      "cell_type": "code",
      "execution_count": 138,
      "id": "5fa259a3",
      "metadata": {
        "colab": {
          "base_uri": "https://localhost:8080/"
        },
        "id": "5fa259a3",
        "outputId": "03cbed1f-0156-4061-ede8-617a83d5bf39"
      },
      "outputs": [
        {
          "output_type": "execute_result",
          "data": {
            "text/plain": [
              "{Value(data=-6.0), Value(data=10.0)}"
            ]
          },
          "metadata": {},
          "execution_count": 138
        }
      ],
      "source": [
        "d._prev"
      ]
    },
    {
      "cell_type": "code",
      "execution_count": 139,
      "id": "bec1b358",
      "metadata": {
        "colab": {
          "base_uri": "https://localhost:8080/",
          "height": 37
        },
        "id": "bec1b358",
        "outputId": "1bb0d4ab-3614-43c2-c306-02f216db4fe0"
      },
      "outputs": [
        {
          "output_type": "execute_result",
          "data": {
            "text/plain": [
              "'+'"
            ],
            "application/vnd.google.colaboratory.intrinsic+json": {
              "type": "string"
            }
          },
          "metadata": {},
          "execution_count": 139
        }
      ],
      "source": [
        "d._op"
      ]
    },
    {
      "cell_type": "code",
      "execution_count": 140,
      "id": "19fe1dc0",
      "metadata": {
        "id": "19fe1dc0"
      },
      "outputs": [],
      "source": [
        "\n",
        "def trace(root):\n",
        "  # builds a set of all nodes and edges in a graph\n",
        "  nodes, edges = set(), set()\n",
        "  def build(v):\n",
        "    if v not in nodes:\n",
        "      nodes.add(v)\n",
        "      for child in v._prev:\n",
        "        edges.add((child, v))\n",
        "        build(child)\n",
        "  build(root)\n",
        "  return nodes, edges\n",
        "\n",
        "def draw_dot(root):\n",
        "  dot = Digraph(format='svg', graph_attr={'rankdir': 'LR'}) # LR = left to right\n",
        "  \n",
        "  nodes, edges = trace(root)\n",
        "  for n in nodes:\n",
        "    uid = str(id(n))\n",
        "    # for any value in the graph, create a rectangular ('record') node for it\n",
        "    dot.node(name = uid, label = \"{ %s | data %.4f | grad %.4f }\" % (n.label, n.data, n.grad), shape='record')\n",
        "    if n._op:\n",
        "      # if this value is a result of some operation, create an op node for it\n",
        "      dot.node(name = uid + n._op, label = n._op)\n",
        "      # and connect this node to it\n",
        "      dot.edge(uid + n._op, uid)\n",
        "\n",
        "  for n1, n2 in edges:\n",
        "    # connect n1 to the op node of n2\n",
        "    dot.edge(str(id(n1)), str(id(n2)) + n2._op)\n",
        "\n",
        "  return dot"
      ]
    },
    {
      "cell_type": "code",
      "execution_count": 141,
      "id": "445f7827",
      "metadata": {
        "colab": {
          "base_uri": "https://localhost:8080/",
          "height": 212
        },
        "id": "445f7827",
        "outputId": "c7af6a8b-ef6b-4d9e-ead3-b0c3c7f6e4c4"
      },
      "outputs": [
        {
          "output_type": "execute_result",
          "data": {
            "text/plain": [
              "<graphviz.dot.Digraph at 0x7f8832869f10>"
            ],
            "image/svg+xml": "<?xml version=\"1.0\" encoding=\"UTF-8\" standalone=\"no\"?>\n<!DOCTYPE svg PUBLIC \"-//W3C//DTD SVG 1.1//EN\"\n \"http://www.w3.org/Graphics/SVG/1.1/DTD/svg11.dtd\">\n<!-- Generated by graphviz version 2.40.1 (20161225.0304)\n -->\n<!-- Title: %3 Pages: 1 -->\n<svg width=\"1187pt\" height=\"128pt\"\n viewBox=\"0.00 0.00 1187.00 128.00\" xmlns=\"http://www.w3.org/2000/svg\" xmlns:xlink=\"http://www.w3.org/1999/xlink\">\n<g id=\"graph0\" class=\"graph\" transform=\"scale(1 1) rotate(0) translate(4 124)\">\n<title>%3</title>\n<polygon fill=\"#ffffff\" stroke=\"transparent\" points=\"-4,4 -4,-124 1183,-124 1183,4 -4,4\"/>\n<!-- 140222939597904 -->\n<g id=\"node1\" class=\"node\">\n<title>140222939597904</title>\n<polygon fill=\"none\" stroke=\"#000000\" points=\"977,-27.5 977,-63.5 1179,-63.5 1179,-27.5 977,-27.5\"/>\n<text text-anchor=\"middle\" x=\"990\" y=\"-41.8\" font-family=\"Times,serif\" font-size=\"14.00\" fill=\"#000000\">L</text>\n<polyline fill=\"none\" stroke=\"#000000\" points=\"1003,-27.5 1003,-63.5 \"/>\n<text text-anchor=\"middle\" x=\"1047.5\" y=\"-41.8\" font-family=\"Times,serif\" font-size=\"14.00\" fill=\"#000000\">data &#45;8.0000</text>\n<polyline fill=\"none\" stroke=\"#000000\" points=\"1092,-27.5 1092,-63.5 \"/>\n<text text-anchor=\"middle\" x=\"1135.5\" y=\"-41.8\" font-family=\"Times,serif\" font-size=\"14.00\" fill=\"#000000\">grad 0.0000</text>\n</g>\n<!-- 140222939597904* -->\n<g id=\"node2\" class=\"node\">\n<title>140222939597904*</title>\n<ellipse fill=\"none\" stroke=\"#000000\" cx=\"914\" cy=\"-45.5\" rx=\"27\" ry=\"18\"/>\n<text text-anchor=\"middle\" x=\"914\" y=\"-41.8\" font-family=\"Times,serif\" font-size=\"14.00\" fill=\"#000000\">*</text>\n</g>\n<!-- 140222939597904*&#45;&gt;140222939597904 -->\n<g id=\"edge1\" class=\"edge\">\n<title>140222939597904*&#45;&gt;140222939597904</title>\n<path fill=\"none\" stroke=\"#000000\" d=\"M941.0813,-45.5C948.631,-45.5 957.3302,-45.5 966.608,-45.5\"/>\n<polygon fill=\"#000000\" stroke=\"#000000\" points=\"966.8754,-49.0001 976.8754,-45.5 966.8754,-42.0001 966.8754,-49.0001\"/>\n</g>\n<!-- 140222939596560 -->\n<g id=\"node3\" class=\"node\">\n<title>140222939596560</title>\n<polygon fill=\"none\" stroke=\"#000000\" points=\"2.5,-56.5 2.5,-92.5 197.5,-92.5 197.5,-56.5 2.5,-56.5\"/>\n<text text-anchor=\"middle\" x=\"14\" y=\"-70.8\" font-family=\"Times,serif\" font-size=\"14.00\" fill=\"#000000\">a</text>\n<polyline fill=\"none\" stroke=\"#000000\" points=\"25.5,-56.5 25.5,-92.5 \"/>\n<text text-anchor=\"middle\" x=\"68\" y=\"-70.8\" font-family=\"Times,serif\" font-size=\"14.00\" fill=\"#000000\">data 2.0000</text>\n<polyline fill=\"none\" stroke=\"#000000\" points=\"110.5,-56.5 110.5,-92.5 \"/>\n<text text-anchor=\"middle\" x=\"154\" y=\"-70.8\" font-family=\"Times,serif\" font-size=\"14.00\" fill=\"#000000\">grad 0.0000</text>\n</g>\n<!-- 140222939596752* -->\n<g id=\"node10\" class=\"node\">\n<title>140222939596752*</title>\n<ellipse fill=\"none\" stroke=\"#000000\" cx=\"263\" cy=\"-46.5\" rx=\"27\" ry=\"18\"/>\n<text text-anchor=\"middle\" x=\"263\" y=\"-42.8\" font-family=\"Times,serif\" font-size=\"14.00\" fill=\"#000000\">*</text>\n</g>\n<!-- 140222939596560&#45;&gt;140222939596752* -->\n<g id=\"edge4\" class=\"edge\">\n<title>140222939596560&#45;&gt;140222939596752*</title>\n<path fill=\"none\" stroke=\"#000000\" d=\"M197.6409,-57.7273C207.9722,-55.9526 217.943,-54.2399 226.8529,-52.7093\"/>\n<polygon fill=\"#000000\" stroke=\"#000000\" points=\"227.5199,-56.1461 236.783,-51.0035 226.3347,-49.2471 227.5199,-56.1461\"/>\n</g>\n<!-- 140222939597648 -->\n<g id=\"node4\" class=\"node\">\n<title>140222939597648</title>\n<polygon fill=\"none\" stroke=\"#000000\" points=\"654.5,-55.5 654.5,-91.5 850.5,-91.5 850.5,-55.5 654.5,-55.5\"/>\n<text text-anchor=\"middle\" x=\"666.5\" y=\"-69.8\" font-family=\"Times,serif\" font-size=\"14.00\" fill=\"#000000\">d</text>\n<polyline fill=\"none\" stroke=\"#000000\" points=\"678.5,-55.5 678.5,-91.5 \"/>\n<text text-anchor=\"middle\" x=\"721\" y=\"-69.8\" font-family=\"Times,serif\" font-size=\"14.00\" fill=\"#000000\">data 4.0000</text>\n<polyline fill=\"none\" stroke=\"#000000\" points=\"763.5,-55.5 763.5,-91.5 \"/>\n<text text-anchor=\"middle\" x=\"807\" y=\"-69.8\" font-family=\"Times,serif\" font-size=\"14.00\" fill=\"#000000\">grad 0.0000</text>\n</g>\n<!-- 140222939597648&#45;&gt;140222939597904* -->\n<g id=\"edge9\" class=\"edge\">\n<title>140222939597648&#45;&gt;140222939597904*</title>\n<path fill=\"none\" stroke=\"#000000\" d=\"M850.6344,-56.486C860.2015,-54.8273 869.4268,-53.2279 877.738,-51.7869\"/>\n<polygon fill=\"#000000\" stroke=\"#000000\" points=\"878.4785,-55.2108 887.7336,-50.0539 877.2827,-48.3137 878.4785,-55.2108\"/>\n</g>\n<!-- 140222939597648+ -->\n<g id=\"node5\" class=\"node\">\n<title>140222939597648+</title>\n<ellipse fill=\"none\" stroke=\"#000000\" cx=\"591\" cy=\"-73.5\" rx=\"27\" ry=\"18\"/>\n<text text-anchor=\"middle\" x=\"591\" y=\"-69.8\" font-family=\"Times,serif\" font-size=\"14.00\" fill=\"#000000\">+</text>\n</g>\n<!-- 140222939597648+&#45;&gt;140222939597648 -->\n<g id=\"edge2\" class=\"edge\">\n<title>140222939597648+&#45;&gt;140222939597648</title>\n<path fill=\"none\" stroke=\"#000000\" d=\"M618.0315,-73.5C625.7623,-73.5 634.6953,-73.5 644.2076,-73.5\"/>\n<polygon fill=\"#000000\" stroke=\"#000000\" points=\"644.3041,-77.0001 654.304,-73.5 644.304,-70.0001 644.3041,-77.0001\"/>\n</g>\n<!-- 140222939596624 -->\n<g id=\"node6\" class=\"node\">\n<title>140222939596624</title>\n<polygon fill=\"none\" stroke=\"#000000\" points=\"0,-1.5 0,-37.5 200,-37.5 200,-1.5 0,-1.5\"/>\n<text text-anchor=\"middle\" x=\"12\" y=\"-15.8\" font-family=\"Times,serif\" font-size=\"14.00\" fill=\"#000000\">b</text>\n<polyline fill=\"none\" stroke=\"#000000\" points=\"24,-1.5 24,-37.5 \"/>\n<text text-anchor=\"middle\" x=\"68.5\" y=\"-15.8\" font-family=\"Times,serif\" font-size=\"14.00\" fill=\"#000000\">data &#45;3.0000</text>\n<polyline fill=\"none\" stroke=\"#000000\" points=\"113,-1.5 113,-37.5 \"/>\n<text text-anchor=\"middle\" x=\"156.5\" y=\"-15.8\" font-family=\"Times,serif\" font-size=\"14.00\" fill=\"#000000\">grad 0.0000</text>\n</g>\n<!-- 140222939596624&#45;&gt;140222939596752* -->\n<g id=\"edge6\" class=\"edge\">\n<title>140222939596624&#45;&gt;140222939596752*</title>\n<path fill=\"none\" stroke=\"#000000\" d=\"M200.4461,-36.1383C209.6478,-37.6625 218.5084,-39.1302 226.5226,-40.4577\"/>\n<polygon fill=\"#000000\" stroke=\"#000000\" points=\"226.0904,-43.9338 236.528,-42.1151 227.2344,-37.0279 226.0904,-43.9338\"/>\n</g>\n<!-- 140222939597264 -->\n<g id=\"node7\" class=\"node\">\n<title>140222939597264</title>\n<polygon fill=\"none\" stroke=\"#000000\" points=\"326,-83.5 326,-119.5 528,-119.5 528,-83.5 326,-83.5\"/>\n<text text-anchor=\"middle\" x=\"337.5\" y=\"-97.8\" font-family=\"Times,serif\" font-size=\"14.00\" fill=\"#000000\">c</text>\n<polyline fill=\"none\" stroke=\"#000000\" points=\"349,-83.5 349,-119.5 \"/>\n<text text-anchor=\"middle\" x=\"395\" y=\"-97.8\" font-family=\"Times,serif\" font-size=\"14.00\" fill=\"#000000\">data 10.0000</text>\n<polyline fill=\"none\" stroke=\"#000000\" points=\"441,-83.5 441,-119.5 \"/>\n<text text-anchor=\"middle\" x=\"484.5\" y=\"-97.8\" font-family=\"Times,serif\" font-size=\"14.00\" fill=\"#000000\">grad 0.0000</text>\n</g>\n<!-- 140222939597264&#45;&gt;140222939597648+ -->\n<g id=\"edge8\" class=\"edge\">\n<title>140222939597264&#45;&gt;140222939597648+</title>\n<path fill=\"none\" stroke=\"#000000\" d=\"M528.0623,-84.2455C537.5172,-82.6312 546.6142,-81.0781 554.8116,-79.6785\"/>\n<polygon fill=\"#000000\" stroke=\"#000000\" points=\"555.405,-83.1279 564.6733,-77.9948 554.2269,-76.2278 555.405,-83.1279\"/>\n</g>\n<!-- 140222939597712 -->\n<g id=\"node8\" class=\"node\">\n<title>140222939597712</title>\n<polygon fill=\"none\" stroke=\"#000000\" points=\"654,-.5 654,-36.5 851,-36.5 851,-.5 654,-.5\"/>\n<text text-anchor=\"middle\" x=\"664.5\" y=\"-14.8\" font-family=\"Times,serif\" font-size=\"14.00\" fill=\"#000000\">f</text>\n<polyline fill=\"none\" stroke=\"#000000\" points=\"675,-.5 675,-36.5 \"/>\n<text text-anchor=\"middle\" x=\"719.5\" y=\"-14.8\" font-family=\"Times,serif\" font-size=\"14.00\" fill=\"#000000\">data &#45;2.0000</text>\n<polyline fill=\"none\" stroke=\"#000000\" points=\"764,-.5 764,-36.5 \"/>\n<text text-anchor=\"middle\" x=\"807.5\" y=\"-14.8\" font-family=\"Times,serif\" font-size=\"14.00\" fill=\"#000000\">grad 0.0000</text>\n</g>\n<!-- 140222939597712&#45;&gt;140222939597904* -->\n<g id=\"edge5\" class=\"edge\">\n<title>140222939597712&#45;&gt;140222939597904*</title>\n<path fill=\"none\" stroke=\"#000000\" d=\"M851.0974,-34.9838C860.4127,-36.5411 869.3943,-38.0427 877.5123,-39.3999\"/>\n<polygon fill=\"#000000\" stroke=\"#000000\" points=\"877.2018,-42.8965 887.6421,-41.0934 878.3562,-35.9923 877.2018,-42.8965\"/>\n</g>\n<!-- 140222939596752 -->\n<g id=\"node9\" class=\"node\">\n<title>140222939596752</title>\n<polygon fill=\"none\" stroke=\"#000000\" points=\"327.5,-28.5 327.5,-64.5 526.5,-64.5 526.5,-28.5 327.5,-28.5\"/>\n<text text-anchor=\"middle\" x=\"339\" y=\"-42.8\" font-family=\"Times,serif\" font-size=\"14.00\" fill=\"#000000\">e</text>\n<polyline fill=\"none\" stroke=\"#000000\" points=\"350.5,-28.5 350.5,-64.5 \"/>\n<text text-anchor=\"middle\" x=\"395\" y=\"-42.8\" font-family=\"Times,serif\" font-size=\"14.00\" fill=\"#000000\">data &#45;6.0000</text>\n<polyline fill=\"none\" stroke=\"#000000\" points=\"439.5,-28.5 439.5,-64.5 \"/>\n<text text-anchor=\"middle\" x=\"483\" y=\"-42.8\" font-family=\"Times,serif\" font-size=\"14.00\" fill=\"#000000\">grad 0.0000</text>\n</g>\n<!-- 140222939596752&#45;&gt;140222939597648+ -->\n<g id=\"edge7\" class=\"edge\">\n<title>140222939596752&#45;&gt;140222939597648+</title>\n<path fill=\"none\" stroke=\"#000000\" d=\"M526.6536,-62.9064C536.572,-64.5393 546.1287,-66.1127 554.7053,-67.5247\"/>\n<polygon fill=\"#000000\" stroke=\"#000000\" points=\"554.2034,-70.9891 564.6392,-69.1601 555.3406,-64.082 554.2034,-70.9891\"/>\n</g>\n<!-- 140222939596752*&#45;&gt;140222939596752 -->\n<g id=\"edge3\" class=\"edge\">\n<title>140222939596752*&#45;&gt;140222939596752</title>\n<path fill=\"none\" stroke=\"#000000\" d=\"M290.0813,-46.5C298.0646,-46.5 307.3332,-46.5 317.212,-46.5\"/>\n<polygon fill=\"#000000\" stroke=\"#000000\" points=\"317.2693,-50.0001 327.2693,-46.5 317.2692,-43.0001 317.2693,-50.0001\"/>\n</g>\n</g>\n</svg>\n"
          },
          "metadata": {},
          "execution_count": 141
        }
      ],
      "source": [
        "draw_dot(L)"
      ]
    },
    {
      "cell_type": "markdown",
      "source": [
        "### Grad for **d**\n",
        "L = d * f\n",
        "\n",
        "dL/dd = ?  f\n",
        "\n",
        "( f (x+h) - f(x) ) /h\n",
        "\n",
        "( (d+h)*f - d*f ) /h\n",
        "\n",
        "(h*f)/h\n",
        "f"
      ],
      "metadata": {
        "id": "R6T_iXIBWjP9"
      },
      "id": "R6T_iXIBWjP9"
    },
    {
      "cell_type": "code",
      "source": [
        "L.grad = 1.0                # filling grad manually for dL/dL"
      ],
      "metadata": {
        "id": "OYddv7CKXADF"
      },
      "id": "OYddv7CKXADF",
      "execution_count": 165,
      "outputs": []
    },
    {
      "cell_type": "code",
      "source": [
        "f.grad = 4.0\n",
        "d.grad = -2.0"
      ],
      "metadata": {
        "id": "x21Oa2rulBi3"
      },
      "id": "x21Oa2rulBi3",
      "execution_count": 166,
      "outputs": []
    },
    {
      "cell_type": "markdown",
      "source": [
        "we want to know how e or c effecting L but we cannot compute it directly but we can compute dd/dc then dL/dd (we already have this) and somehow put the both information together get the dL/dc or dL/de.\n",
        "\n",
        "dd / dc or dd / de is just local derivatives we want to calculate global derivative i.e dL / dc pr dL / de.\n",
        "\n",
        "d = c + e\n",
        "\n",
        "(f(x+h) - f(x)) / h\n",
        "\n",
        "(( c+h + e) - (c+e))/h\n",
        "\n",
        "(c + h + e - c -e)/h\n",
        "\n",
        "h/h\n",
        "\n",
        "1.0\n"
      ],
      "metadata": {
        "id": "byTgWR1NoMYP"
      },
      "id": "byTgWR1NoMYP"
    },
    {
      "cell_type": "markdown",
      "source": [
        "dd / dc = 1.0\n",
        "\n",
        "dd / de = 1.0\n",
        "\n",
        "d = c + e\n",
        "\n",
        "Now how to put both information together we talked about : CHAIN RULE\n",
        "\n",
        "what is chain rule ?\n",
        "\n",
        "If a variable z depends on the variable y, which itself depends on the variable x (that is, y and z are dependent variables), then z depends on x as well.\n",
        "\n",
        "![Screenshot 2022-08-30 at 5.48.34 PM.png](data:image/png;base64,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)\n",
        "\n",
        "**WANT:**\n",
        "\n",
        "dL / dc = (dL / dd) * (dd / dc)\n",
        "\n",
        "**KNOW:**\n",
        "\n",
        "dL / dd\n",
        "\n",
        "dd / dc\n",
        "\n",
        "\n"
      ],
      "metadata": {
        "id": "viTCpz6lpWyc"
      },
      "id": "viTCpz6lpWyc"
    },
    {
      "cell_type": "code",
      "source": [
        "c.grad = -2.0 \n",
        "e.grad = -2.0"
      ],
      "metadata": {
        "id": "nRQlo_NxtQlR"
      },
      "id": "nRQlo_NxtQlR",
      "execution_count": 167,
      "outputs": []
    },
    {
      "cell_type": "markdown",
      "source": [
        "dL / de = -2.0\n",
        "\n",
        "e = a * b\n",
        "\n",
        "de / da ?  b\n",
        "\n",
        "de / db ?  a\n",
        "\n",
        "dL / da = (dL / de) * (de / da)\n",
        "\n",
        "dL / db = (dL / de) * (de / db)\n",
        "\n",
        "**(remember de / da and de / db are local derivative)**\n",
        "\n",
        "\n",
        "\n",
        "\n",
        "\n"
      ],
      "metadata": {
        "id": "rpCvc0qcuv94"
      },
      "id": "rpCvc0qcuv94"
    },
    {
      "cell_type": "code",
      "source": [
        "a.grad = -2.0 * -3.0\n",
        "b.grad = -2.0 * 2.0"
      ],
      "metadata": {
        "id": "BpLQ9sksxn1v"
      },
      "id": "BpLQ9sksxn1v",
      "execution_count": 168,
      "outputs": []
    },
    {
      "cell_type": "code",
      "source": [
        "def lol():\n",
        "  \n",
        "  h = 0.001\n",
        "  \n",
        "  a = Value(2.0, label='a')\n",
        "  b = Value(-3.0, label='b')\n",
        "  c = Value(10.0, label='c')\n",
        "  e = a*b; e.label = 'e'\n",
        "  d = e + c; d.label = 'd'\n",
        "  f = Value(-2.0, label='f')\n",
        "  L = d * f; L.label = 'L'\n",
        "  L1 = L.data\n",
        "  \n",
        "  a = Value(2.0, label='a')\n",
        "  #a.data += h\n",
        "  b = Value(-3.0, label='b')\n",
        "  #b.data += h\n",
        "  c = Value(10.0, label='c')\n",
        "  e = a*b; e.label = 'e'\n",
        "  #e.data += h\n",
        "  d = e + c; d.label = 'd'\n",
        "  #d.data += h\n",
        "  f = Value(-2.0 , label='f')\n",
        "  #f = Value(-2.0 + h , label='f')\n",
        "  L = d * f; L.label = 'L'\n",
        "  L2 = L.data\n",
        "  \n",
        "  print((L2 - L1)/h)\n",
        "  \n",
        "lol()"
      ],
      "metadata": {
        "colab": {
          "base_uri": "https://localhost:8080/"
        },
        "id": "nNdRJhF6W3Ls",
        "outputId": "97d6aa9b-c601-4030-edd5-1a7efd20caa9"
      },
      "id": "nNdRJhF6W3Ls",
      "execution_count": 169,
      "outputs": [
        {
          "output_type": "stream",
          "name": "stdout",
          "text": [
            "0.0\n"
          ]
        }
      ]
    },
    {
      "cell_type": "markdown",
      "source": [
        "**Let's the Power of what we have built in action**\n",
        "\n",
        "Now we gonna nudge our inputs try to make L go up.\n",
        "\n",
        "If we want to up L that means we need to in the direction of gradients."
      ],
      "metadata": {
        "id": "h-vmiW7m62rP"
      },
      "id": "h-vmiW7m62rP"
    },
    {
      "cell_type": "code",
      "source": [
        "a.data += 0.01 * a.grad\n",
        "b.data += 0.01 * b.grad\n",
        "c.data += 0.01 * c.grad\n",
        "f.data += 0.01 * f.grad\n",
        "\n",
        "e = a * b\n",
        "d = e + c\n",
        "L = d * f\n",
        "\n",
        "print(L.data)"
      ],
      "metadata": {
        "colab": {
          "base_uri": "https://localhost:8080/"
        },
        "id": "Wbd1xFMg7S4t",
        "outputId": "37954a8e-6ba5-48be-a3db-cb905fdb8021"
      },
      "id": "Wbd1xFMg7S4t",
      "execution_count": 170,
      "outputs": [
        {
          "output_type": "stream",
          "name": "stdout",
          "text": [
            "-46.97032704860435\n"
          ]
        }
      ]
    },
    {
      "cell_type": "code",
      "source": [
        "plt.plot(np.arange(-5,5,0.2), np.tanh(np.arange(-5,5,0.2))); plt.grid();"
      ],
      "metadata": {
        "colab": {
          "base_uri": "https://localhost:8080/",
          "height": 265
        },
        "id": "5GrydFnV7ofJ",
        "outputId": "f7e89c4f-34ea-4286-ea7c-c3b417464de1"
      },
      "id": "5GrydFnV7ofJ",
      "execution_count": 171,
      "outputs": [
        {
          "output_type": "display_data",
          "data": {
            "text/plain": [
              "<Figure size 432x288 with 1 Axes>"
            ],
            "image/png": "[encoded data removed]"
          },
          "metadata": {
            "needs_background": "light"
          }
        }
      ]
    },
    {
      "cell_type": "code",
      "source": [
        "# inputs x1,x2\n",
        "x1 = Value(2.0, label='x1')\n",
        "x2 = Value(0.0, label='x2')\n",
        "# weights w1,w2\n",
        "w1 = Value(-3.0, label='w1')\n",
        "w2 = Value(1.0, label='w2')\n",
        "# bias of the neuron\n",
        "b = Value(6.8813735870195432, label='b')\n",
        "# x1*w1 + x2*w2 + b\n",
        "x1w1 = x1*w1; x1w1.label = 'x1*w1'\n",
        "x2w2 = x2*w2; x2w2.label = 'x2*w2'\n",
        "x1w1x2w2 = x1w1 + x2w2; x1w1x2w2.label = 'x1*w1 + x2*w2'\n",
        "n = x1w1x2w2 + b; n.label = 'n'\n",
        "o = n.tanh(); o.label = 'o'"
      ],
      "metadata": {
        "id": "sfcaYTRkBYh9"
      },
      "id": "sfcaYTRkBYh9",
      "execution_count": 172,
      "outputs": []
    },
    {
      "cell_type": "code",
      "source": [
        "draw_dot(o)"
      ],
      "metadata": {
        "colab": {
          "base_uri": "https://localhost:8080/",
          "height": 321
        },
        "id": "y6olFHGfBY51",
        "outputId": "3464690a-6e17-48f1-c2df-01d4c420d277"
      },
      "id": "y6olFHGfBY51",
      "execution_count": 173,
      "outputs": [
        {
          "output_type": "execute_result",
          "data": {
            "text/plain": [
              "<graphviz.dot.Digraph at 0x7f883271b750>"
            ],
            "image/svg+xml": "<?xml version=\"1.0\" encoding=\"UTF-8\" standalone=\"no\"?>\n<!DOCTYPE svg PUBLIC \"-//W3C//DTD SVG 1.1//EN\"\n \"http://www.w3.org/Graphics/SVG/1.1/DTD/svg11.dtd\">\n<!-- Generated by graphviz version 2.40.1 (20161225.0304)\n -->\n<!-- Title: %3 Pages: 1 -->\n<svg width=\"1637pt\" height=\"210pt\"\n viewBox=\"0.00 0.00 1637.00 210.00\" xmlns=\"http://www.w3.org/2000/svg\" xmlns:xlink=\"http://www.w3.org/1999/xlink\">\n<g id=\"graph0\" class=\"graph\" transform=\"scale(1 1) rotate(0) translate(4 206)\">\n<title>%3</title>\n<polygon fill=\"#ffffff\" stroke=\"transparent\" points=\"-4,4 -4,-206 1633,-206 1633,4 -4,4\"/>\n<!-- 140222938572816 -->\n<g id=\"node1\" class=\"node\">\n<title>140222938572816</title>\n<polygon fill=\"none\" stroke=\"#000000\" points=\"696,-82.5 696,-118.5 985,-118.5 985,-82.5 696,-82.5\"/>\n<text text-anchor=\"middle\" x=\"752.5\" y=\"-96.8\" font-family=\"Times,serif\" font-size=\"14.00\" fill=\"#000000\">x1*w1 + x2*w2</text>\n<polyline fill=\"none\" stroke=\"#000000\" points=\"809,-82.5 809,-118.5 \"/>\n<text text-anchor=\"middle\" x=\"853.5\" y=\"-96.8\" font-family=\"Times,serif\" font-size=\"14.00\" fill=\"#000000\">data &#45;6.0000</text>\n<polyline fill=\"none\" stroke=\"#000000\" points=\"898,-82.5 898,-118.5 \"/>\n<text text-anchor=\"middle\" x=\"941.5\" y=\"-96.8\" font-family=\"Times,serif\" font-size=\"14.00\" fill=\"#000000\">grad 0.0000</text>\n</g>\n<!-- 140222938572752+ -->\n<g id=\"node15\" class=\"node\">\n<title>140222938572752+</title>\n<ellipse fill=\"none\" stroke=\"#000000\" cx=\"1048\" cy=\"-127.5\" rx=\"27\" ry=\"18\"/>\n<text text-anchor=\"middle\" x=\"1048\" y=\"-123.8\" font-family=\"Times,serif\" font-size=\"14.00\" fill=\"#000000\">+</text>\n</g>\n<!-- 140222938572816&#45;&gt;140222938572752+ -->\n<g id=\"edge13\" class=\"edge\">\n<title>140222938572816&#45;&gt;140222938572752+</title>\n<path fill=\"none\" stroke=\"#000000\" d=\"M978.9055,-118.5094C990.5887,-120.0296 1001.6094,-121.4636 1011.2737,-122.7212\"/>\n<polygon fill=\"#000000\" stroke=\"#000000\" points=\"1010.8271,-126.1925 1021.1952,-124.0121 1011.7304,-119.251 1010.8271,-126.1925\"/>\n</g>\n<!-- 140222938572816+ -->\n<g id=\"node2\" class=\"node\">\n<title>140222938572816+</title>\n<ellipse fill=\"none\" stroke=\"#000000\" cx=\"633\" cy=\"-100.5\" rx=\"27\" ry=\"18\"/>\n<text text-anchor=\"middle\" x=\"633\" y=\"-96.8\" font-family=\"Times,serif\" font-size=\"14.00\" fill=\"#000000\">+</text>\n</g>\n<!-- 140222938572816+&#45;&gt;140222938572816 -->\n<g id=\"edge1\" class=\"edge\">\n<title>140222938572816+&#45;&gt;140222938572816</title>\n<path fill=\"none\" stroke=\"#000000\" d=\"M660.127,-100.5C667.628,-100.5 676.3363,-100.5 685.7965,-100.5\"/>\n<polygon fill=\"#000000\" stroke=\"#000000\" points=\"685.9081,-104.0001 695.908,-100.5 685.908,-97.0001 685.9081,-104.0001\"/>\n</g>\n<!-- 140222938573840 -->\n<g id=\"node3\" class=\"node\">\n<title>140222938573840</title>\n<polygon fill=\"none\" stroke=\"#000000\" points=\"742.5,-137.5 742.5,-173.5 938.5,-173.5 938.5,-137.5 742.5,-137.5\"/>\n<text text-anchor=\"middle\" x=\"754.5\" y=\"-151.8\" font-family=\"Times,serif\" font-size=\"14.00\" fill=\"#000000\">b</text>\n<polyline fill=\"none\" stroke=\"#000000\" points=\"766.5,-137.5 766.5,-173.5 \"/>\n<text text-anchor=\"middle\" x=\"809\" y=\"-151.8\" font-family=\"Times,serif\" font-size=\"14.00\" fill=\"#000000\">data 6.8814</text>\n<polyline fill=\"none\" stroke=\"#000000\" points=\"851.5,-137.5 851.5,-173.5 \"/>\n<text text-anchor=\"middle\" x=\"895\" y=\"-151.8\" font-family=\"Times,serif\" font-size=\"14.00\" fill=\"#000000\">grad 0.0000</text>\n</g>\n<!-- 140222938573840&#45;&gt;140222938572752+ -->\n<g id=\"edge11\" class=\"edge\">\n<title>140222938573840&#45;&gt;140222938572752+</title>\n<path fill=\"none\" stroke=\"#000000\" d=\"M938.7811,-142.238C964.6496,-138.7473 990.9727,-135.1952 1011.2938,-132.4531\"/>\n<polygon fill=\"#000000\" stroke=\"#000000\" points=\"1011.897,-135.9035 1021.3391,-131.0976 1010.9609,-128.9664 1011.897,-135.9035\"/>\n</g>\n<!-- 140222938572880 -->\n<g id=\"node4\" class=\"node\">\n<title>140222938572880</title>\n<polygon fill=\"none\" stroke=\"#000000\" points=\"3.5,-165.5 3.5,-201.5 207.5,-201.5 207.5,-165.5 3.5,-165.5\"/>\n<text text-anchor=\"middle\" x=\"19.5\" y=\"-179.8\" font-family=\"Times,serif\" font-size=\"14.00\" fill=\"#000000\">x1</text>\n<polyline fill=\"none\" stroke=\"#000000\" points=\"35.5,-165.5 35.5,-201.5 \"/>\n<text text-anchor=\"middle\" x=\"78\" y=\"-179.8\" font-family=\"Times,serif\" font-size=\"14.00\" fill=\"#000000\">data 2.0000</text>\n<polyline fill=\"none\" stroke=\"#000000\" points=\"120.5,-165.5 120.5,-201.5 \"/>\n<text text-anchor=\"middle\" x=\"164\" y=\"-179.8\" font-family=\"Times,serif\" font-size=\"14.00\" fill=\"#000000\">grad 0.0000</text>\n</g>\n<!-- 140222938572432* -->\n<g id=\"node7\" class=\"node\">\n<title>140222938572432*</title>\n<ellipse fill=\"none\" stroke=\"#000000\" cx=\"274\" cy=\"-128.5\" rx=\"27\" ry=\"18\"/>\n<text text-anchor=\"middle\" x=\"274\" y=\"-124.8\" font-family=\"Times,serif\" font-size=\"14.00\" fill=\"#000000\">*</text>\n</g>\n<!-- 140222938572880&#45;&gt;140222938572432* -->\n<g id=\"edge7\" class=\"edge\">\n<title>140222938572880&#45;&gt;140222938572432*</title>\n<path fill=\"none\" stroke=\"#000000\" d=\"M182.3017,-165.4558C192.0361,-162.698 201.8026,-159.6955 211,-156.5 221.6243,-152.8088 232.9373,-148.0548 243.0021,-143.5155\"/>\n<polygon fill=\"#000000\" stroke=\"#000000\" points=\"244.5909,-146.6371 252.2061,-139.271 241.6594,-140.2805 244.5909,-146.6371\"/>\n</g>\n<!-- 140222938573776 -->\n<g id=\"node5\" class=\"node\">\n<title>140222938573776</title>\n<polygon fill=\"none\" stroke=\"#000000\" points=\"0,-110.5 0,-146.5 211,-146.5 211,-110.5 0,-110.5\"/>\n<text text-anchor=\"middle\" x=\"17.5\" y=\"-124.8\" font-family=\"Times,serif\" font-size=\"14.00\" fill=\"#000000\">w1</text>\n<polyline fill=\"none\" stroke=\"#000000\" points=\"35,-110.5 35,-146.5 \"/>\n<text text-anchor=\"middle\" x=\"79.5\" y=\"-124.8\" font-family=\"Times,serif\" font-size=\"14.00\" fill=\"#000000\">data &#45;3.0000</text>\n<polyline fill=\"none\" stroke=\"#000000\" points=\"124,-110.5 124,-146.5 \"/>\n<text text-anchor=\"middle\" x=\"167.5\" y=\"-124.8\" font-family=\"Times,serif\" font-size=\"14.00\" fill=\"#000000\">grad 0.0000</text>\n</g>\n<!-- 140222938573776&#45;&gt;140222938572432* -->\n<g id=\"edge9\" class=\"edge\">\n<title>140222938573776&#45;&gt;140222938572432*</title>\n<path fill=\"none\" stroke=\"#000000\" d=\"M211.2568,-128.5C220.2576,-128.5 228.9074,-128.5 236.7567,-128.5\"/>\n<polygon fill=\"#000000\" stroke=\"#000000\" points=\"236.9217,-132.0001 246.9217,-128.5 236.9217,-125.0001 236.9217,-132.0001\"/>\n</g>\n<!-- 140222938572432 -->\n<g id=\"node6\" class=\"node\">\n<title>140222938572432</title>\n<polygon fill=\"none\" stroke=\"#000000\" points=\"337,-110.5 337,-146.5 570,-146.5 570,-110.5 337,-110.5\"/>\n<text text-anchor=\"middle\" x=\"365.5\" y=\"-124.8\" font-family=\"Times,serif\" font-size=\"14.00\" fill=\"#000000\">x1*w1</text>\n<polyline fill=\"none\" stroke=\"#000000\" points=\"394,-110.5 394,-146.5 \"/>\n<text text-anchor=\"middle\" x=\"438.5\" y=\"-124.8\" font-family=\"Times,serif\" font-size=\"14.00\" fill=\"#000000\">data &#45;6.0000</text>\n<polyline fill=\"none\" stroke=\"#000000\" points=\"483,-110.5 483,-146.5 \"/>\n<text text-anchor=\"middle\" x=\"526.5\" y=\"-124.8\" font-family=\"Times,serif\" font-size=\"14.00\" fill=\"#000000\">grad 0.0000</text>\n</g>\n<!-- 140222938572432&#45;&gt;140222938572816+ -->\n<g id=\"edge8\" class=\"edge\">\n<title>140222938572432&#45;&gt;140222938572816+</title>\n<path fill=\"none\" stroke=\"#000000\" d=\"M568.9566,-110.4901C578.7184,-108.9673 588.037,-107.5137 596.3947,-106.21\"/>\n<polygon fill=\"#000000\" stroke=\"#000000\" points=\"597.0871,-109.6444 606.4281,-104.6449 596.0082,-102.7281 597.0871,-109.6444\"/>\n</g>\n<!-- 140222938572432*&#45;&gt;140222938572432 -->\n<g id=\"edge2\" class=\"edge\">\n<title>140222938572432*&#45;&gt;140222938572432</title>\n<path fill=\"none\" stroke=\"#000000\" d=\"M301.2622,-128.5C308.8324,-128.5 317.5801,-128.5 326.9781,-128.5\"/>\n<polygon fill=\"#000000\" stroke=\"#000000\" points=\"326.9853,-132.0001 336.9853,-128.5 326.9852,-125.0001 326.9853,-132.0001\"/>\n</g>\n<!-- 140222938571408 -->\n<g id=\"node8\" class=\"node\">\n<title>140222938571408</title>\n<polygon fill=\"none\" stroke=\"#000000\" points=\"2,-55.5 2,-91.5 209,-91.5 209,-55.5 2,-55.5\"/>\n<text text-anchor=\"middle\" x=\"19.5\" y=\"-69.8\" font-family=\"Times,serif\" font-size=\"14.00\" fill=\"#000000\">w2</text>\n<polyline fill=\"none\" stroke=\"#000000\" points=\"37,-55.5 37,-91.5 \"/>\n<text text-anchor=\"middle\" x=\"79.5\" y=\"-69.8\" font-family=\"Times,serif\" font-size=\"14.00\" fill=\"#000000\">data 1.0000</text>\n<polyline fill=\"none\" stroke=\"#000000\" points=\"122,-55.5 122,-91.5 \"/>\n<text text-anchor=\"middle\" x=\"165.5\" y=\"-69.8\" font-family=\"Times,serif\" font-size=\"14.00\" fill=\"#000000\">grad 0.0000</text>\n</g>\n<!-- 140222938573200* -->\n<g id=\"node13\" class=\"node\">\n<title>140222938573200*</title>\n<ellipse fill=\"none\" stroke=\"#000000\" cx=\"274\" cy=\"-73.5\" rx=\"27\" ry=\"18\"/>\n<text text-anchor=\"middle\" x=\"274\" y=\"-69.8\" font-family=\"Times,serif\" font-size=\"14.00\" fill=\"#000000\">*</text>\n</g>\n<!-- 140222938571408&#45;&gt;140222938573200* -->\n<g id=\"edge14\" class=\"edge\">\n<title>140222938571408&#45;&gt;140222938573200*</title>\n<path fill=\"none\" stroke=\"#000000\" d=\"M209.3354,-73.5C219.0497,-73.5 228.3963,-73.5 236.8187,-73.5\"/>\n<polygon fill=\"#000000\" stroke=\"#000000\" points=\"236.951,-77.0001 246.9509,-73.5 236.9509,-70.0001 236.951,-77.0001\"/>\n</g>\n<!-- 140222938573520 -->\n<g id=\"node9\" class=\"node\">\n<title>140222938573520</title>\n<polygon fill=\"none\" stroke=\"#000000\" points=\"3.5,-.5 3.5,-36.5 207.5,-36.5 207.5,-.5 3.5,-.5\"/>\n<text text-anchor=\"middle\" x=\"19.5\" y=\"-14.8\" font-family=\"Times,serif\" font-size=\"14.00\" fill=\"#000000\">x2</text>\n<polyline fill=\"none\" stroke=\"#000000\" points=\"35.5,-.5 35.5,-36.5 \"/>\n<text text-anchor=\"middle\" x=\"78\" y=\"-14.8\" font-family=\"Times,serif\" font-size=\"14.00\" fill=\"#000000\">data 0.0000</text>\n<polyline fill=\"none\" stroke=\"#000000\" points=\"120.5,-.5 120.5,-36.5 \"/>\n<text text-anchor=\"middle\" x=\"164\" y=\"-14.8\" font-family=\"Times,serif\" font-size=\"14.00\" fill=\"#000000\">grad 0.0000</text>\n</g>\n<!-- 140222938573520&#45;&gt;140222938573200* -->\n<g id=\"edge10\" class=\"edge\">\n<title>140222938573520&#45;&gt;140222938573200*</title>\n<path fill=\"none\" stroke=\"#000000\" d=\"M179.1277,-36.5688C189.8946,-39.636 200.7889,-42.9778 211,-46.5 221.4855,-50.1168 232.6874,-54.6793 242.694,-59.0193\"/>\n<polygon fill=\"#000000\" stroke=\"#000000\" points=\"241.2981,-62.229 251.8592,-63.0741 244.1302,-55.8274 241.2981,-62.229\"/>\n</g>\n<!-- 140222938571536 -->\n<g id=\"node10\" class=\"node\">\n<title>140222938571536</title>\n<polygon fill=\"none\" stroke=\"#000000\" points=\"1433,-109.5 1433,-145.5 1629,-145.5 1629,-109.5 1433,-109.5\"/>\n<text text-anchor=\"middle\" x=\"1445\" y=\"-123.8\" font-family=\"Times,serif\" font-size=\"14.00\" fill=\"#000000\">o</text>\n<polyline fill=\"none\" stroke=\"#000000\" points=\"1457,-109.5 1457,-145.5 \"/>\n<text text-anchor=\"middle\" x=\"1499.5\" y=\"-123.8\" font-family=\"Times,serif\" font-size=\"14.00\" fill=\"#000000\">data 0.7071</text>\n<polyline fill=\"none\" stroke=\"#000000\" points=\"1542,-109.5 1542,-145.5 \"/>\n<text text-anchor=\"middle\" x=\"1585.5\" y=\"-123.8\" font-family=\"Times,serif\" font-size=\"14.00\" fill=\"#000000\">grad 0.0000</text>\n</g>\n<!-- 140222938571536tanh -->\n<g id=\"node11\" class=\"node\">\n<title>140222938571536tanh</title>\n<ellipse fill=\"none\" stroke=\"#000000\" cx=\"1370\" cy=\"-127.5\" rx=\"27\" ry=\"18\"/>\n<text text-anchor=\"middle\" x=\"1370\" y=\"-123.8\" font-family=\"Times,serif\" font-size=\"14.00\" fill=\"#000000\">tanh</text>\n</g>\n<!-- 140222938571536tanh&#45;&gt;140222938571536 -->\n<g id=\"edge3\" class=\"edge\">\n<title>140222938571536tanh&#45;&gt;140222938571536</title>\n<path fill=\"none\" stroke=\"#000000\" d=\"M1397.3115,-127.5C1404.8223,-127.5 1413.4512,-127.5 1422.6318,-127.5\"/>\n<polygon fill=\"#000000\" stroke=\"#000000\" points=\"1422.7835,-131.0001 1432.7835,-127.5 1422.7835,-124.0001 1422.7835,-131.0001\"/>\n</g>\n<!-- 140222938573200 -->\n<g id=\"node12\" class=\"node\">\n<title>140222938573200</title>\n<polygon fill=\"none\" stroke=\"#000000\" points=\"339,-55.5 339,-91.5 568,-91.5 568,-55.5 339,-55.5\"/>\n<text text-anchor=\"middle\" x=\"367.5\" y=\"-69.8\" font-family=\"Times,serif\" font-size=\"14.00\" fill=\"#000000\">x2*w2</text>\n<polyline fill=\"none\" stroke=\"#000000\" points=\"396,-55.5 396,-91.5 \"/>\n<text text-anchor=\"middle\" x=\"438.5\" y=\"-69.8\" font-family=\"Times,serif\" font-size=\"14.00\" fill=\"#000000\">data 0.0000</text>\n<polyline fill=\"none\" stroke=\"#000000\" points=\"481,-55.5 481,-91.5 \"/>\n<text text-anchor=\"middle\" x=\"524.5\" y=\"-69.8\" font-family=\"Times,serif\" font-size=\"14.00\" fill=\"#000000\">grad 0.0000</text>\n</g>\n<!-- 140222938573200&#45;&gt;140222938572816+ -->\n<g id=\"edge12\" class=\"edge\">\n<title>140222938573200&#45;&gt;140222938572816+</title>\n<path fill=\"none\" stroke=\"#000000\" d=\"M568.1964,-90.7524C578.2591,-92.266 587.8673,-93.7112 596.4577,-95.0034\"/>\n<polygon fill=\"#000000\" stroke=\"#000000\" points=\"595.984,-98.4714 606.3934,-96.4979 597.0253,-91.5493 595.984,-98.4714\"/>\n</g>\n<!-- 140222938573200*&#45;&gt;140222938573200 -->\n<g id=\"edge4\" class=\"edge\">\n<title>140222938573200*&#45;&gt;140222938573200</title>\n<path fill=\"none\" stroke=\"#000000\" d=\"M301.2622,-73.5C309.2798,-73.5 318.6183,-73.5 328.6514,-73.5\"/>\n<polygon fill=\"#000000\" stroke=\"#000000\" points=\"328.8929,-77.0001 338.8928,-73.5 328.8928,-70.0001 328.8929,-77.0001\"/>\n</g>\n<!-- 140222938572752 -->\n<g id=\"node14\" class=\"node\">\n<title>140222938572752</title>\n<polygon fill=\"none\" stroke=\"#000000\" points=\"1111,-109.5 1111,-145.5 1307,-145.5 1307,-109.5 1111,-109.5\"/>\n<text text-anchor=\"middle\" x=\"1123\" y=\"-123.8\" font-family=\"Times,serif\" font-size=\"14.00\" fill=\"#000000\">n</text>\n<polyline fill=\"none\" stroke=\"#000000\" points=\"1135,-109.5 1135,-145.5 \"/>\n<text text-anchor=\"middle\" x=\"1177.5\" y=\"-123.8\" font-family=\"Times,serif\" font-size=\"14.00\" fill=\"#000000\">data 0.8814</text>\n<polyline fill=\"none\" stroke=\"#000000\" points=\"1220,-109.5 1220,-145.5 \"/>\n<text text-anchor=\"middle\" x=\"1263.5\" y=\"-123.8\" font-family=\"Times,serif\" font-size=\"14.00\" fill=\"#000000\">grad 0.0000</text>\n</g>\n<!-- 140222938572752&#45;&gt;140222938571536tanh -->\n<g id=\"edge6\" class=\"edge\">\n<title>140222938572752&#45;&gt;140222938571536tanh</title>\n<path fill=\"none\" stroke=\"#000000\" d=\"M1307.2922,-127.5C1316.2042,-127.5 1324.8099,-127.5 1332.6423,-127.5\"/>\n<polygon fill=\"#000000\" stroke=\"#000000\" points=\"1332.7996,-131.0001 1342.7995,-127.5 1332.7995,-124.0001 1332.7996,-131.0001\"/>\n</g>\n<!-- 140222938572752+&#45;&gt;140222938572752 -->\n<g id=\"edge5\" class=\"edge\">\n<title>140222938572752+&#45;&gt;140222938572752</title>\n<path fill=\"none\" stroke=\"#000000\" d=\"M1075.3115,-127.5C1082.8223,-127.5 1091.4512,-127.5 1100.6318,-127.5\"/>\n<polygon fill=\"#000000\" stroke=\"#000000\" points=\"1100.7835,-131.0001 1110.7835,-127.5 1100.7835,-124.0001 1100.7835,-131.0001\"/>\n</g>\n</g>\n</svg>\n"
          },
          "metadata": {},
          "execution_count": 173
        }
      ]
    },
    {
      "cell_type": "code",
      "source": [
        "o.grad = 1.0"
      ],
      "metadata": {
        "id": "auYf-cVGMN51"
      },
      "id": "auYf-cVGMN51",
      "execution_count": 174,
      "outputs": []
    },
    {
      "cell_type": "code",
      "source": [
        "topo = []                            # topological sort\n",
        "visited = set()\n",
        "def build_topo(v):\n",
        "  if v not in visited:\n",
        "    visited.add(v)\n",
        "    for child in v._prev:\n",
        "      build_topo(child)\n",
        "    topo.append(v)\n",
        "build_topo(o)\n",
        "topo"
      ],
      "metadata": {
        "colab": {
          "base_uri": "https://localhost:8080/"
        },
        "id": "Mg8tmTcLNjgk",
        "outputId": "36974494-ec25-46c0-fd7f-aa990d03e680"
      },
      "id": "Mg8tmTcLNjgk",
      "execution_count": 175,
      "outputs": [
        {
          "output_type": "execute_result",
          "data": {
            "text/plain": [
              "[Value(data=2.0),\n",
              " Value(data=-3.0),\n",
              " Value(data=-6.0),\n",
              " Value(data=1.0),\n",
              " Value(data=0.0),\n",
              " Value(data=0.0),\n",
              " Value(data=-6.0),\n",
              " Value(data=6.881373587019543),\n",
              " Value(data=0.8813735870195432),\n",
              " Value(data=0.7071067811865476)]"
            ]
          },
          "metadata": {},
          "execution_count": 175
        }
      ]
    },
    {
      "cell_type": "code",
      "source": [
        "o._backward()"
      ],
      "metadata": {
        "id": "wpBK_rCmMNu0"
      },
      "id": "wpBK_rCmMNu0",
      "execution_count": 176,
      "outputs": []
    },
    {
      "cell_type": "code",
      "source": [
        "n._backward()"
      ],
      "metadata": {
        "id": "CavtyJcHMaIl"
      },
      "id": "CavtyJcHMaIl",
      "execution_count": 177,
      "outputs": []
    },
    {
      "cell_type": "code",
      "source": [
        "b._backward()                # we cannot call coz b does not have a _backward it is a leaf node ( initialize to an empty function)"
      ],
      "metadata": {
        "id": "hrC3cb7eMaGA"
      },
      "id": "hrC3cb7eMaGA",
      "execution_count": 178,
      "outputs": []
    },
    {
      "cell_type": "code",
      "source": [
        "x1w1x2w2._backward()"
      ],
      "metadata": {
        "id": "mYcVbWV9MaDM"
      },
      "id": "mYcVbWV9MaDM",
      "execution_count": 179,
      "outputs": []
    },
    {
      "cell_type": "code",
      "source": [
        "x1w1._backward()\n",
        "x2w2._backward()"
      ],
      "metadata": {
        "id": "0pyVRJDrMZ8Y"
      },
      "id": "0pyVRJDrMZ8Y",
      "execution_count": 180,
      "outputs": []
    },
    {
      "cell_type": "code",
      "source": [
        "x1.grad = w1.data * x1w1.grad\n",
        "w1.grad = x1.data * x1w1.grad"
      ],
      "metadata": {
        "id": "KGoqPg61JNBM"
      },
      "id": "KGoqPg61JNBM",
      "execution_count": 181,
      "outputs": []
    },
    {
      "cell_type": "code",
      "source": [
        "w2.grad = x2.data * x2w2.grad                        # interesting thing here is deravative of w2 is 0 and that is fair logically coz\n",
        "x2.grad = w2.data * x2w2.grad                        # deravative always tell us the effect it has on root node but if x2 is 0 ( x2 * w2)\n",
        "                                                     # w2 will never have effect on root node that is why it it coming out 0."
      ],
      "metadata": {
        "id": "f_tGrJ8mHfQ-"
      },
      "id": "f_tGrJ8mHfQ-",
      "execution_count": 182,
      "outputs": []
    },
    {
      "cell_type": "code",
      "source": [
        "x1w1.grad = 0.5\n",
        "x2w2.grad = 0.5"
      ],
      "metadata": {
        "id": "9M2ThqjYFTR6"
      },
      "id": "9M2ThqjYFTR6",
      "execution_count": 183,
      "outputs": []
    },
    {
      "cell_type": "code",
      "source": [
        "x1w1x2w2.grad = 0.5      # '+' is just a distributor of gradient so this gradient will simply flow to both child node \n",
        "b.grad = 0.5             # equally and thats because the local derivative of the operation is 1 for every one of its node.           "
      ],
      "metadata": {
        "id": "k1FAGjYVE7xJ"
      },
      "id": "k1FAGjYVE7xJ",
      "execution_count": 184,
      "outputs": []
    },
    {
      "cell_type": "code",
      "source": [
        "n.grad = 0.5"
      ],
      "metadata": {
        "id": "KxHVLtHbHQYM"
      },
      "id": "KxHVLtHbHQYM",
      "execution_count": 185,
      "outputs": []
    },
    {
      "cell_type": "markdown",
      "source": [
        "we have seen what tanh looks like, here is the math. formula:\n",
        "\n",
        "![Screenshot 2022-08-30 at 7.29.56 PM.png](data:image/png;base64,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)\n",
        "\n",
        "o = tanh(n)\n",
        "\n",
        "and deravative of tanh is :\n",
        "\n",
        "![Screenshot 2022-08-30 at 7.31.35 PM.png](data:image/png;base64,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)\n",
        "\n",
        "do/dn = 1 - o**2"
      ],
      "metadata": {
        "id": "9VTpXNNtBk5M"
      },
      "id": "9VTpXNNtBk5M"
    },
    {
      "cell_type": "code",
      "source": [
        "1 - o.data**2"
      ],
      "metadata": {
        "colab": {
          "base_uri": "https://localhost:8080/"
        },
        "id": "JRTTJPwJD-tH",
        "outputId": "ead52883-26b0-424f-f7c9-a4e674b11f2d"
      },
      "id": "JRTTJPwJD-tH",
      "execution_count": 186,
      "outputs": [
        {
          "output_type": "execute_result",
          "data": {
            "text/plain": [
              "0.4999999999999999"
            ]
          },
          "metadata": {},
          "execution_count": 186
        }
      ]
    },
    {
      "cell_type": "code",
      "source": [
        "o.grad = 1.0"
      ],
      "metadata": {
        "id": "nK4W-TlnBjhg"
      },
      "id": "nK4W-TlnBjhg",
      "execution_count": 187,
      "outputs": []
    },
    {
      "cell_type": "code",
      "source": [
        "a = Value(3.0, label='a')                # accumulate the gradient when getting gradient from the same variable\n",
        "b = a + a   ; b.label = 'b'\n",
        "b.backward()\n",
        "draw_dot(b)"
      ],
      "metadata": {
        "colab": {
          "base_uri": "https://localhost:8080/",
          "height": 81
        },
        "id": "pT_0hjJ2PflK",
        "outputId": "fe21d54f-0287-44b5-bc2a-0cf7ef816fbf"
      },
      "id": "pT_0hjJ2PflK",
      "execution_count": 190,
      "outputs": [
        {
          "output_type": "execute_result",
          "data": {
            "text/plain": [
              "<graphviz.dot.Digraph at 0x7f883272fdd0>"
            ],
            "image/svg+xml": "<?xml version=\"1.0\" encoding=\"UTF-8\" standalone=\"no\"?>\n<!DOCTYPE svg PUBLIC \"-//W3C//DTD SVG 1.1//EN\"\n \"http://www.w3.org/Graphics/SVG/1.1/DTD/svg11.dtd\">\n<!-- Generated by graphviz version 2.40.1 (20161225.0304)\n -->\n<!-- Title: %3 Pages: 1 -->\n<svg width=\"525pt\" height=\"45pt\"\n viewBox=\"0.00 0.00 525.00 45.00\" xmlns=\"http://www.w3.org/2000/svg\" xmlns:xlink=\"http://www.w3.org/1999/xlink\">\n<g id=\"graph0\" class=\"graph\" transform=\"scale(1 1) rotate(0) translate(4 41)\">\n<title>%3</title>\n<polygon fill=\"#ffffff\" stroke=\"transparent\" points=\"-4,4 -4,-41 521,-41 521,4 -4,4\"/>\n<!-- 140222938673744 -->\n<g id=\"node1\" class=\"node\">\n<title>140222938673744</title>\n<polygon fill=\"none\" stroke=\"#000000\" points=\"0,-.5 0,-36.5 195,-36.5 195,-.5 0,-.5\"/>\n<text text-anchor=\"middle\" x=\"11.5\" y=\"-14.8\" font-family=\"Times,serif\" font-size=\"14.00\" fill=\"#000000\">a</text>\n<polyline fill=\"none\" stroke=\"#000000\" points=\"23,-.5 23,-36.5 \"/>\n<text text-anchor=\"middle\" x=\"65.5\" y=\"-14.8\" font-family=\"Times,serif\" font-size=\"14.00\" fill=\"#000000\">data 3.0000</text>\n<polyline fill=\"none\" stroke=\"#000000\" points=\"108,-.5 108,-36.5 \"/>\n<text text-anchor=\"middle\" x=\"151.5\" y=\"-14.8\" font-family=\"Times,serif\" font-size=\"14.00\" fill=\"#000000\">grad 2.0000</text>\n</g>\n<!-- 140222938674640+ -->\n<g id=\"node3\" class=\"node\">\n<title>140222938674640+</title>\n<ellipse fill=\"none\" stroke=\"#000000\" cx=\"258\" cy=\"-18.5\" rx=\"27\" ry=\"18\"/>\n<text text-anchor=\"middle\" x=\"258\" y=\"-14.8\" font-family=\"Times,serif\" font-size=\"14.00\" fill=\"#000000\">+</text>\n</g>\n<!-- 140222938673744&#45;&gt;140222938674640+ -->\n<g id=\"edge2\" class=\"edge\">\n<title>140222938673744&#45;&gt;140222938674640+</title>\n<path fill=\"none\" stroke=\"#000000\" d=\"M195.0268,-18.5C204.1551,-18.5 212.9704,-18.5 220.9692,-18.5\"/>\n<polygon fill=\"#000000\" stroke=\"#000000\" points=\"220.9719,-22.0001 230.9718,-18.5 220.9718,-15.0001 220.9719,-22.0001\"/>\n</g>\n<!-- 140222938674640 -->\n<g id=\"node2\" class=\"node\">\n<title>140222938674640</title>\n<polygon fill=\"none\" stroke=\"#000000\" points=\"321,-.5 321,-36.5 517,-36.5 517,-.5 321,-.5\"/>\n<text text-anchor=\"middle\" x=\"333\" y=\"-14.8\" font-family=\"Times,serif\" font-size=\"14.00\" fill=\"#000000\">b</text>\n<polyline fill=\"none\" stroke=\"#000000\" points=\"345,-.5 345,-36.5 \"/>\n<text text-anchor=\"middle\" x=\"387.5\" y=\"-14.8\" font-family=\"Times,serif\" font-size=\"14.00\" fill=\"#000000\">data 6.0000</text>\n<polyline fill=\"none\" stroke=\"#000000\" points=\"430,-.5 430,-36.5 \"/>\n<text text-anchor=\"middle\" x=\"473.5\" y=\"-14.8\" font-family=\"Times,serif\" font-size=\"14.00\" fill=\"#000000\">grad 1.0000</text>\n</g>\n<!-- 140222938674640+&#45;&gt;140222938674640 -->\n<g id=\"edge1\" class=\"edge\">\n<title>140222938674640+&#45;&gt;140222938674640</title>\n<path fill=\"none\" stroke=\"#000000\" d=\"M285.3115,-18.5C292.8223,-18.5 301.4512,-18.5 310.6318,-18.5\"/>\n<polygon fill=\"#000000\" stroke=\"#000000\" points=\"310.7835,-22.0001 320.7835,-18.5 310.7835,-15.0001 310.7835,-22.0001\"/>\n</g>\n</g>\n</svg>\n"
          },
          "metadata": {},
          "execution_count": 190
        }
      ]
    },
    {
      "cell_type": "code",
      "source": [
        "a = Value(-2.0, label='a')               # remember we have to accumilate the gradients i.e our gradient is till d and e after that say we are\n",
        "b = Value(3.0, label='b')                # checking gradients from '+' operator, gradient will flow equally now what is problem's when gradient  \n",
        "d = a * b    ; d.label = 'd'             # of '*' will execute it will orverride the gradient of what we got from '+'. so keep in mind to accumulate \n",
        "e = a + b    ; e.label = 'e'             # the gradients always. ( our example is after fixing the same variable gradient problem  )\n",
        "f = d * e    ; f.label = 'f'\n",
        "\n",
        "f.backward()\n",
        "\n",
        "draw_dot(f)"
      ],
      "metadata": {
        "colab": {
          "base_uri": "https://localhost:8080/",
          "height": 154
        },
        "id": "5DHsrVXsQyhH",
        "outputId": "88e39775-eca8-4b56-c0f3-6c630b0bb63a"
      },
      "id": "5DHsrVXsQyhH",
      "execution_count": 191,
      "outputs": [
        {
          "output_type": "execute_result",
          "data": {
            "text/plain": [
              "<graphviz.dot.Digraph at 0x7f8832732750>"
            ],
            "image/svg+xml": "<?xml version=\"1.0\" encoding=\"UTF-8\" standalone=\"no\"?>\n<!DOCTYPE svg PUBLIC \"-//W3C//DTD SVG 1.1//EN\"\n \"http://www.w3.org/Graphics/SVG/1.1/DTD/svg11.dtd\">\n<!-- Generated by graphviz version 2.40.1 (20161225.0304)\n -->\n<!-- Title: %3 Pages: 1 -->\n<svg width=\"861pt\" height=\"100pt\"\n viewBox=\"0.00 0.00 861.00 100.00\" xmlns=\"http://www.w3.org/2000/svg\" xmlns:xlink=\"http://www.w3.org/1999/xlink\">\n<g id=\"graph0\" class=\"graph\" transform=\"scale(1 1) rotate(0) translate(4 96)\">\n<title>%3</title>\n<polygon fill=\"#ffffff\" stroke=\"transparent\" points=\"-4,4 -4,-96 857,-96 857,4 -4,4\"/>\n<!-- 140222938685520 -->\n<g id=\"node1\" class=\"node\">\n<title>140222938685520</title>\n<polygon fill=\"none\" stroke=\"#000000\" points=\"0,-55.5 0,-91.5 204,-91.5 204,-55.5 0,-55.5\"/>\n<text text-anchor=\"middle\" x=\"11.5\" y=\"-69.8\" font-family=\"Times,serif\" font-size=\"14.00\" fill=\"#000000\">a</text>\n<polyline fill=\"none\" stroke=\"#000000\" points=\"23,-55.5 23,-91.5 \"/>\n<text text-anchor=\"middle\" x=\"67.5\" y=\"-69.8\" font-family=\"Times,serif\" font-size=\"14.00\" fill=\"#000000\">data &#45;2.0000</text>\n<polyline fill=\"none\" stroke=\"#000000\" points=\"112,-55.5 112,-91.5 \"/>\n<text text-anchor=\"middle\" x=\"158\" y=\"-69.8\" font-family=\"Times,serif\" font-size=\"14.00\" fill=\"#000000\">grad &#45;3.0000</text>\n</g>\n<!-- 140222938702160+ -->\n<g id=\"node4\" class=\"node\">\n<title>140222938702160+</title>\n<ellipse fill=\"none\" stroke=\"#000000\" cx=\"267\" cy=\"-73.5\" rx=\"27\" ry=\"18\"/>\n<text text-anchor=\"middle\" x=\"267\" y=\"-69.8\" font-family=\"Times,serif\" font-size=\"14.00\" fill=\"#000000\">+</text>\n</g>\n<!-- 140222938685520&#45;&gt;140222938702160+ -->\n<g id=\"edge7\" class=\"edge\">\n<title>140222938685520&#45;&gt;140222938702160+</title>\n<path fill=\"none\" stroke=\"#000000\" d=\"M204.1499,-73.5C213.1243,-73.5 221.7693,-73.5 229.6257,-73.5\"/>\n<polygon fill=\"#000000\" stroke=\"#000000\" points=\"229.8071,-77.0001 239.8071,-73.5 229.807,-70.0001 229.8071,-77.0001\"/>\n</g>\n<!-- 140222938687952* -->\n<g id=\"node8\" class=\"node\">\n<title>140222938687952*</title>\n<ellipse fill=\"none\" stroke=\"#000000\" cx=\"267\" cy=\"-18.5\" rx=\"27\" ry=\"18\"/>\n<text text-anchor=\"middle\" x=\"267\" y=\"-14.8\" font-family=\"Times,serif\" font-size=\"14.00\" fill=\"#000000\">*</text>\n</g>\n<!-- 140222938685520&#45;&gt;140222938687952* -->\n<g id=\"edge5\" class=\"edge\">\n<title>140222938685520&#45;&gt;140222938687952*</title>\n<path fill=\"none\" stroke=\"#000000\" d=\"M175.6935,-55.4949C185.2882,-52.7128 194.9287,-49.6935 204,-46.5 214.609,-42.7651 225.918,-37.9995 235.9838,-33.4631\"/>\n<polygon fill=\"#000000\" stroke=\"#000000\" points=\"237.5699,-36.586 245.19,-29.225 234.6427,-30.2274 237.5699,-36.586\"/>\n</g>\n<!-- 140222938686672 -->\n<g id=\"node2\" class=\"node\">\n<title>140222938686672</title>\n<polygon fill=\"none\" stroke=\"#000000\" points=\"1.5,-.5 1.5,-36.5 202.5,-36.5 202.5,-.5 1.5,-.5\"/>\n<text text-anchor=\"middle\" x=\"13.5\" y=\"-14.8\" font-family=\"Times,serif\" font-size=\"14.00\" fill=\"#000000\">b</text>\n<polyline fill=\"none\" stroke=\"#000000\" points=\"25.5,-.5 25.5,-36.5 \"/>\n<text text-anchor=\"middle\" x=\"68\" y=\"-14.8\" font-family=\"Times,serif\" font-size=\"14.00\" fill=\"#000000\">data 3.0000</text>\n<polyline fill=\"none\" stroke=\"#000000\" points=\"110.5,-.5 110.5,-36.5 \"/>\n<text text-anchor=\"middle\" x=\"156.5\" y=\"-14.8\" font-family=\"Times,serif\" font-size=\"14.00\" fill=\"#000000\">grad &#45;8.0000</text>\n</g>\n<!-- 140222938686672&#45;&gt;140222938702160+ -->\n<g id=\"edge9\" class=\"edge\">\n<title>140222938686672&#45;&gt;140222938702160+</title>\n<path fill=\"none\" stroke=\"#000000\" d=\"M172.6226,-36.5301C183.2123,-39.6243 193.9462,-42.9843 204,-46.5 214.4701,-50.1613 225.6678,-54.7359 235.6752,-59.0733\"/>\n<polygon fill=\"#000000\" stroke=\"#000000\" points=\"234.2811,-62.2836 244.8427,-63.1216 237.1088,-55.8802 234.2811,-62.2836\"/>\n</g>\n<!-- 140222938686672&#45;&gt;140222938687952* -->\n<g id=\"edge6\" class=\"edge\">\n<title>140222938686672&#45;&gt;140222938687952*</title>\n<path fill=\"none\" stroke=\"#000000\" d=\"M202.7342,-18.5C212.2639,-18.5 221.4519,-18.5 229.7544,-18.5\"/>\n<polygon fill=\"#000000\" stroke=\"#000000\" points=\"229.7565,-22.0001 239.7565,-18.5 229.7565,-15.0001 229.7565,-22.0001\"/>\n</g>\n<!-- 140222938702160 -->\n<g id=\"node3\" class=\"node\">\n<title>140222938702160</title>\n<polygon fill=\"none\" stroke=\"#000000\" points=\"330,-55.5 330,-91.5 530,-91.5 530,-55.5 330,-55.5\"/>\n<text text-anchor=\"middle\" x=\"341.5\" y=\"-69.8\" font-family=\"Times,serif\" font-size=\"14.00\" fill=\"#000000\">e</text>\n<polyline fill=\"none\" stroke=\"#000000\" points=\"353,-55.5 353,-91.5 \"/>\n<text text-anchor=\"middle\" x=\"395.5\" y=\"-69.8\" font-family=\"Times,serif\" font-size=\"14.00\" fill=\"#000000\">data 1.0000</text>\n<polyline fill=\"none\" stroke=\"#000000\" points=\"438,-55.5 438,-91.5 \"/>\n<text text-anchor=\"middle\" x=\"484\" y=\"-69.8\" font-family=\"Times,serif\" font-size=\"14.00\" fill=\"#000000\">grad &#45;6.0000</text>\n</g>\n<!-- 140222938704272* -->\n<g id=\"node6\" class=\"node\">\n<title>140222938704272*</title>\n<ellipse fill=\"none\" stroke=\"#000000\" cx=\"593\" cy=\"-45.5\" rx=\"27\" ry=\"18\"/>\n<text text-anchor=\"middle\" x=\"593\" y=\"-41.8\" font-family=\"Times,serif\" font-size=\"14.00\" fill=\"#000000\">*</text>\n</g>\n<!-- 140222938702160&#45;&gt;140222938704272* -->\n<g id=\"edge4\" class=\"edge\">\n<title>140222938702160&#45;&gt;140222938704272*</title>\n<path fill=\"none\" stroke=\"#000000\" d=\"M530.4461,-56.2455C539.7389,-54.6491 548.6838,-53.1126 556.7604,-51.7252\"/>\n<polygon fill=\"#000000\" stroke=\"#000000\" points=\"557.5708,-55.1374 566.8338,-49.9948 556.3856,-48.2384 557.5708,-55.1374\"/>\n</g>\n<!-- 140222938702160+&#45;&gt;140222938702160 -->\n<g id=\"edge1\" class=\"edge\">\n<title>140222938702160+&#45;&gt;140222938702160</title>\n<path fill=\"none\" stroke=\"#000000\" d=\"M294.2825,-73.5C301.8033,-73.5 310.4515,-73.5 319.6639,-73.5\"/>\n<polygon fill=\"#000000\" stroke=\"#000000\" points=\"319.8552,-77.0001 329.8552,-73.5 319.8552,-70.0001 319.8552,-77.0001\"/>\n</g>\n<!-- 140222938704272 -->\n<g id=\"node5\" class=\"node\">\n<title>140222938704272</title>\n<polygon fill=\"none\" stroke=\"#000000\" points=\"656,-27.5 656,-63.5 853,-63.5 853,-27.5 656,-27.5\"/>\n<text text-anchor=\"middle\" x=\"666.5\" y=\"-41.8\" font-family=\"Times,serif\" font-size=\"14.00\" fill=\"#000000\">f</text>\n<polyline fill=\"none\" stroke=\"#000000\" points=\"677,-27.5 677,-63.5 \"/>\n<text text-anchor=\"middle\" x=\"721.5\" y=\"-41.8\" font-family=\"Times,serif\" font-size=\"14.00\" fill=\"#000000\">data &#45;6.0000</text>\n<polyline fill=\"none\" stroke=\"#000000\" points=\"766,-27.5 766,-63.5 \"/>\n<text text-anchor=\"middle\" x=\"809.5\" y=\"-41.8\" font-family=\"Times,serif\" font-size=\"14.00\" fill=\"#000000\">grad 1.0000</text>\n</g>\n<!-- 140222938704272*&#45;&gt;140222938704272 -->\n<g id=\"edge2\" class=\"edge\">\n<title>140222938704272*&#45;&gt;140222938704272</title>\n<path fill=\"none\" stroke=\"#000000\" d=\"M620.0315,-45.5C627.6149,-45.5 636.3553,-45.5 645.6644,-45.5\"/>\n<polygon fill=\"#000000\" stroke=\"#000000\" points=\"645.9613,-49.0001 655.9613,-45.5 645.9613,-42.0001 645.9613,-49.0001\"/>\n</g>\n<!-- 140222938687952 -->\n<g id=\"node7\" class=\"node\">\n<title>140222938687952</title>\n<polygon fill=\"none\" stroke=\"#000000\" points=\"330,-.5 330,-36.5 530,-36.5 530,-.5 330,-.5\"/>\n<text text-anchor=\"middle\" x=\"342\" y=\"-14.8\" font-family=\"Times,serif\" font-size=\"14.00\" fill=\"#000000\">d</text>\n<polyline fill=\"none\" stroke=\"#000000\" points=\"354,-.5 354,-36.5 \"/>\n<text text-anchor=\"middle\" x=\"398.5\" y=\"-14.8\" font-family=\"Times,serif\" font-size=\"14.00\" fill=\"#000000\">data &#45;6.0000</text>\n<polyline fill=\"none\" stroke=\"#000000\" points=\"443,-.5 443,-36.5 \"/>\n<text text-anchor=\"middle\" x=\"486.5\" y=\"-14.8\" font-family=\"Times,serif\" font-size=\"14.00\" fill=\"#000000\">grad 1.0000</text>\n</g>\n<!-- 140222938687952&#45;&gt;140222938704272* -->\n<g id=\"edge8\" class=\"edge\">\n<title>140222938687952&#45;&gt;140222938704272*</title>\n<path fill=\"none\" stroke=\"#000000\" d=\"M530.4461,-35.1383C539.6478,-36.6625 548.5084,-38.1302 556.5226,-39.4577\"/>\n<polygon fill=\"#000000\" stroke=\"#000000\" points=\"556.0904,-42.9338 566.528,-41.1151 557.2344,-36.0279 556.0904,-42.9338\"/>\n</g>\n<!-- 140222938687952*&#45;&gt;140222938687952 -->\n<g id=\"edge3\" class=\"edge\">\n<title>140222938687952*&#45;&gt;140222938687952</title>\n<path fill=\"none\" stroke=\"#000000\" d=\"M294.2825,-18.5C301.8033,-18.5 310.4515,-18.5 319.6639,-18.5\"/>\n<polygon fill=\"#000000\" stroke=\"#000000\" points=\"319.8552,-22.0001 329.8552,-18.5 319.8552,-15.0001 319.8552,-22.0001\"/>\n</g>\n</g>\n</svg>\n"
          },
          "metadata": {},
          "execution_count": 191
        }
      ]
    }
  ],
  "metadata": {
    "kernelspec": {
      "display_name": "Python 3 (ipykernel)",
      "language": "python",
      "name": "python3"
    },
    "language_info": {
      "codemirror_mode": {
        "name": "ipython",
        "version": 3
      },
      "file_extension": ".py",
      "mimetype": "text/x-python",
      "name": "python",
      "nbconvert_exporter": "python",
      "pygments_lexer": "ipython3",
      "version": "3.10.6"
    },
    "colab": {
      "name": "backprop-part-1.ipynb",
      "provenance": [],
      "include_colab_link": true
    }
  },
  "nbformat": 4,
  "nbformat_minor": 5
}